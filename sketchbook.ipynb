{
 "cells": [
  {
   "cell_type": "code",
   "execution_count": 1,
   "metadata": {},
   "outputs": [],
   "source": [
    "from alefuncs import *"
   ]
  },
  {
   "cell_type": "code",
   "execution_count": 40,
   "metadata": {},
   "outputs": [],
   "source": [
    "from subprocess import run\n",
    "import pexpect\n",
    "from getpass import getpass\n",
    "\n",
    "def ssl_encrypt(infile, outfile):\n",
    "    '''(file_path, file_path) => encrypted_file\n",
    "    Uses openssl to encrypt/decrypt files.\n",
    "    '''\n",
    "    pwd = getpass('enter encryption pwd:')\n",
    "    if getpass('repeat pwd:') == pwd:\n",
    "        run(f'openssl enc -aes-256-cbc -a -salt -pass pass:{pwd} -in {infile} -out {outfile}',shell=True)\n",
    "    else:\n",
    "        print(\"passwords don't match.\")\n",
    "\n",
    "    \n",
    "def ssl_decrypt(infile, outfile):\n",
    "    '''(file_path, file_path) => decrypted_file\n",
    "    Uses openssl to encrypt/decrypt files.\n",
    "    '''\n",
    "    pwd = getpass('enter decryption pwd:')\n",
    "    run(f'openssl enc -d -aes-256-cbc -a -pass pass:{pwd} -in {infile} -out {outfile}', shell=True)"
   ]
  },
  {
   "cell_type": "code",
   "execution_count": 25,
   "metadata": {},
   "outputs": [
    {
     "name": "stdout",
     "output_type": "stream",
     "text": [
      "openssl aes-256-cbc -a -salt -in alefuncs.py -out alefuncs.enc\n",
      "openssl enc -d -aes-256-cbc -in alefuncs.enc -out alefuncs.dec.py\n"
     ]
    }
   ],
   "source": [
    "infile = 'alefuncs.py'\n",
    "outfile = 'alefuncs.enc'\n",
    "print(f'openssl aes-256-cbc -a -salt -in {infile} -out {outfile} -base64')\n",
    "\n",
    "infile = 'alefuncs.enc'\n",
    "outfile = 'alefuncs.dec.py'\n",
    "print(f'openssl enc -d -aes-256-cbc -in {infile} -out {outfile}')"
   ]
  },
  {
   "cell_type": "code",
   "execution_count": 42,
   "metadata": {},
   "outputs": [
    {
     "name": "stdout",
     "output_type": "stream",
     "text": [
      "enter encryption pwd:········\n",
      "repeat pwd:········\n",
      "enter decryption pwd:········\n"
     ]
    }
   ],
   "source": [
    "ssl_encrypt('alefuncs.py','alefuncs.enc')\n",
    "ssl_decrypt('alefuncs.enc', 'a2.py')"
   ]
  },
  {
   "cell_type": "code",
   "execution_count": 41,
   "metadata": {},
   "outputs": [
    {
     "name": "stdout",
     "output_type": "stream",
     "text": [
      "enter decryption pwd:········\n"
     ]
    }
   ],
   "source": []
  },
  {
   "cell_type": "code",
   "execution_count": 33,
   "metadata": {},
   "outputs": [
    {
     "name": "stdout",
     "output_type": "stream",
     "text": [
      "password········\n"
     ]
    },
    {
     "data": {
      "text/plain": [
       "CompletedProcess(args='openssl enc -aes-256-cbc -pass hayoo666 -p -in alefuncs.py -out alefuncs.enc -base64', returncode=1)"
      ]
     },
     "execution_count": 33,
     "metadata": {},
     "output_type": "execute_result"
    }
   ],
   "source": [
    "run(f'openssl enc -aes-256-cbc -pass  -p -in alefuncs.py -out alefuncs.enc -base64',shell=True)\n"
   ]
  },
  {
   "cell_type": "code",
   "execution_count": 94,
   "metadata": {},
   "outputs": [],
   "source": [
    "import socket   #for sockets\n",
    "import time\n",
    "\n",
    "class Server:\n",
    "    def __init__(self):\n",
    "        self.id = 'server.007'\n",
    "        self.ssocket = socket.socket(socket.AF_INET,socket.SOCK_STREAM)\n",
    "        self.host = 'localhost'\n",
    "        self.port = 7899\n",
    "        \n",
    "    def start(self):\n",
    "        start_time = time.time()\n",
    "        print(f'{self.id} started')\n",
    "        self.ssocket.bind((self.host, self.port))\n",
    "        self.ssocket.listen(5) # queue up to 5 requests\n",
    "        \n",
    "        try:\n",
    "            while True:\n",
    "                # establish a connection\n",
    "                clientsocket, addr = self.ssocket.accept()      \n",
    "                print(f'Got a connection from {addr}')\n",
    "                currentTime = time.ctime(time.time()) + \"\\r\\n\"\n",
    "                clientsocket.send(currentTime.encode('ascii'))\n",
    "                clientsocket.close()                  \n",
    "        except KeyboardInterrupt:\n",
    "            return self.terminate()\n",
    "        \n",
    "        \n",
    "            \n",
    "    def terminate(self):\n",
    "        print(f'{self.id} terminated')\n",
    "        self.ssocket.close()\n",
    "        "
   ]
  },
  {
   "cell_type": "code",
   "execution_count": 96,
   "metadata": {},
   "outputs": [
    {
     "name": "stdout",
     "output_type": "stream",
     "text": [
      "server.007 started\n",
      "Got a connection from ('127.0.0.1', 56906)\n",
      "Got a connection from ('127.0.0.1', 56908)\n",
      "server.007 terminated\n"
     ]
    }
   ],
   "source": [
    "s = Server()\n",
    "s.start()"
   ]
  },
  {
   "cell_type": "code",
   "execution_count": 56,
   "metadata": {},
   "outputs": [
    {
     "data": {
      "text/plain": [
       "'COG148'"
      ]
     },
     "execution_count": 56,
     "metadata": {},
     "output_type": "execute_result"
    }
   ],
   "source": [
    "s.host"
   ]
  },
  {
   "cell_type": "code",
   "execution_count": null,
   "metadata": {},
   "outputs": [],
   "source": []
  }
 ],
 "metadata": {
  "kernelspec": {
   "display_name": "Python 3",
   "language": "python",
   "name": "python3"
  },
  "language_info": {
   "codemirror_mode": {
    "name": "ipython",
    "version": 3
   },
   "file_extension": ".py",
   "mimetype": "text/x-python",
   "name": "python",
   "nbconvert_exporter": "python",
   "pygments_lexer": "ipython3",
   "version": "3.6.3"
  }
 },
 "nbformat": 4,
 "nbformat_minor": 2
}
