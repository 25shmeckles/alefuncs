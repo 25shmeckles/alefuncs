{
 "cells": [
  {
   "cell_type": "code",
   "execution_count": null,
   "metadata": {},
   "outputs": [],
   "source": [
    "import sys\n",
    "print(sys.version)"
   ]
  },
  {
   "cell_type": "code",
   "execution_count": null,
   "metadata": {},
   "outputs": [],
   "source": [
    "import mlpy"
   ]
  },
  {
   "cell_type": "code",
   "execution_count": null,
   "metadata": {},
   "outputs": [],
   "source": [
    "from alefuncs import *"
   ]
  },
  {
   "cell_type": "code",
   "execution_count": null,
   "metadata": {},
   "outputs": [],
   "source": [
    "s = 'ATGGTGCTTGTGGGCACGCAGGATGCCATCAGCGCTGCGAATCCCCGGGTTATCGACGACAGCAGAGCCCGCAAGCTCTCCACAGATCTGAAGCGGTGCACCTACTATGAGACGTGCGCGACCTACGGGCTCAATGTGGAGCGTGTCTTCCAGGACGTGGCCCAGAAGGTAGTGGCCTTGCGAAAGAAGCAGCAACTGGCCATCGGGCCCTGCAAGTCACTGCCCAACTCGCCCAGCCACTCGGCCGTGTCCGCCGCCTCCATCCCGGCCGTGCACATCAACCAGGCCACGAATGGCGGCGGCAGCGCCTTCAGCGACTACTCGTCCTCAGTCCCCTCCACCCCCAGCATCAGCCAGCGGGAGCTGCGCATCGAGACCATCGCTGCCTCCTCCACCCCCACACCCATCCGAAAGCAGTCCAAGCGGCGCTCCAACATCTTCACGGACTTGATTAGAGACCAAGGATTTCGTGGTGATGGAGGATCAACCACAGGTTTGTCTGCTACCCCCCCTGCCTCATTACCTGGCTCACTAACTAACGTGAAAGCCTTACAGAAATCTCCAGGACCTCAGCGAGAAAGGAAGTCATCTTCATCCTCAGAAGACAGGAATCGAATGAAAACACTTGGTAGACGGGACTCGAGTGATGATTGGGAGATTCCTGATGGGCAG'\n",
    "gc_content(s, percent=True)"
   ]
  },
  {
   "cell_type": "code",
   "execution_count": null,
   "metadata": {},
   "outputs": [],
   "source": [
    "from subprocess import run\n",
    "import pexpect\n",
    "from getpass import getpass\n",
    "\n",
    "def ssl_encrypt(infile, outfile):\n",
    "    '''(file_path, file_path) => encrypted_file\n",
    "    Uses openssl to encrypt/decrypt files.\n",
    "    '''\n",
    "    pwd = getpass('enter encryption pwd:')\n",
    "    if getpass('repeat pwd:') == pwd:\n",
    "        run(f'openssl enc -aes-256-cbc -a -salt -pass pass:{pwd} -in {infile} -out {outfile}',shell=True)\n",
    "    else:\n",
    "        print(\"passwords don't match.\")\n",
    "\n",
    "    \n",
    "def ssl_decrypt(infile, outfile):\n",
    "    '''(file_path, file_path) => decrypted_file\n",
    "    Uses openssl to encrypt/decrypt files.\n",
    "    '''\n",
    "    pwd = getpass('enter decryption pwd:')\n",
    "    run(f'openssl enc -d -aes-256-cbc -a -pass pass:{pwd} -in {infile} -out {outfile}', shell=True)"
   ]
  },
  {
   "cell_type": "code",
   "execution_count": null,
   "metadata": {},
   "outputs": [],
   "source": [
    "infile = 'alefuncs.py'\n",
    "outfile = 'alefuncs.enc'\n",
    "print(f'openssl aes-256-cbc -a -salt -in {infile} -out {outfile} -base64')\n",
    "\n",
    "infile = 'alefuncs.enc'\n",
    "outfile = 'alefuncs.dec.py'\n",
    "print(f'openssl enc -d -aes-256-cbc -in {infile} -out {outfile}')"
   ]
  },
  {
   "cell_type": "code",
   "execution_count": null,
   "metadata": {},
   "outputs": [],
   "source": [
    "ssl_encrypt('alefuncs.py','alefuncs.enc')\n",
    "ssl_decrypt('alefuncs.enc', 'a2.py')"
   ]
  },
  {
   "cell_type": "code",
   "execution_count": null,
   "metadata": {},
   "outputs": [],
   "source": []
  },
  {
   "cell_type": "code",
   "execution_count": null,
   "metadata": {},
   "outputs": [],
   "source": [
    "run(f'openssl enc -aes-256-cbc -pass  -p -in alefuncs.py -out alefuncs.enc -base64',shell=True)\n"
   ]
  },
  {
   "cell_type": "code",
   "execution_count": null,
   "metadata": {},
   "outputs": [],
   "source": [
    "import socket   #for sockets\n",
    "import time\n",
    "\n",
    "class Server:\n",
    "    def __init__(self):\n",
    "        self.id = 'server.007'\n",
    "        self.ssocket = socket.socket(socket.AF_INET,socket.SOCK_STREAM)\n",
    "        self.host = 'localhost'\n",
    "        self.port = 7899\n",
    "        \n",
    "    def start(self):\n",
    "        start_time = time.time()\n",
    "        print(f'{self.id} started')\n",
    "        self.ssocket.bind((self.host, self.port))\n",
    "        self.ssocket.listen(5) # queue up to 5 requests\n",
    "        \n",
    "        try:\n",
    "            while True:\n",
    "                # establish a connection\n",
    "                clientsocket, addr = self.ssocket.accept()      \n",
    "                print(f'Got a connection from {addr}')\n",
    "                currentTime = time.ctime(time.time()) + \"\\r\\n\"\n",
    "                clientsocket.send(currentTime.encode('ascii'))\n",
    "                clientsocket.close()                  \n",
    "        except KeyboardInterrupt:\n",
    "            return self.terminate()\n",
    "        \n",
    "        \n",
    "            \n",
    "    def terminate(self):\n",
    "        print(f'{self.id} terminated')\n",
    "        self.ssocket.close()\n",
    "        "
   ]
  },
  {
   "cell_type": "code",
   "execution_count": null,
   "metadata": {},
   "outputs": [],
   "source": [
    "s = Server()\n",
    "s.start()"
   ]
  },
  {
   "cell_type": "code",
   "execution_count": null,
   "metadata": {},
   "outputs": [],
   "source": [
    "s.host"
   ]
  },
  {
   "cell_type": "code",
   "execution_count": null,
   "metadata": {},
   "outputs": [],
   "source": [
    "import asyncore\n",
    "\n",
    "class Handler(asyncore.dispatcher):\n",
    "    def __init__(self, sock):\n",
    "        self.buffer = b''\n",
    "        super().__init__(sock)\n",
    "\n",
    "    def handle_read(self):\n",
    "        self.buffer += self.recv(1024)\n",
    "        print(f'current buffer: {repr(self.buffer)}')\n",
    "\n",
    "\n",
    "class Server(asyncore.dispatcher):\n",
    "    def __init__(self, host, port):\n",
    "        asyncore.dispatcher.__init__(self)\n",
    "        self.create_socket()\n",
    "        self.set_reuse_addr()\n",
    "        self.bind((host, port))\n",
    "        self.listen(5)\n",
    "\n",
    "    def handle_accepted(self, sock, addr):\n",
    "        print(f'Incoming connection from {repr(addr)}')\n",
    "        Handler(sock)\n",
    "\n",
    "\n",
    "if __name__ == \"__main__\":\n",
    "    server = Server(\"localhost\", 1234)\n",
    "    asyncore.loop()"
   ]
  },
  {
   "cell_type": "code",
   "execution_count": null,
   "metadata": {},
   "outputs": [],
   "source": [
    "import asyncore, time\n",
    "\n",
    "class Client(asyncore.dispatcher):\n",
    "\n",
    "    def __init__(self, host, port):\n",
    "        asyncore.dispatcher.__init__(self)\n",
    "        self.create_socket()\n",
    "        self.connect( (host, port) )\n",
    "        self.buffer = bytes(\"hello world\", 'ascii')\n",
    "        self.last_sent = time.time()\n",
    "\n",
    "    def handle_connect(self):\n",
    "        pass\n",
    "\n",
    "    def handle_close(self):\n",
    "        self.close()\n",
    "\n",
    "    def handle_read(self):\n",
    "        print('Re: ', self.recv(1024))\n",
    "\n",
    "    def writable(self):\n",
    "        return (len(self.buffer) > 0)\n",
    "\n",
    "    def writable(self):\n",
    "        return True\n",
    "\n",
    "    def handle_write(self):\n",
    "        sent = self.send(self.buffer)\n",
    "        if sent:\n",
    "            print('Sent:', sent)\n",
    "            self.buffer = self.buffer[sent:]\n",
    "            self.last_sent = time.time()\n",
    "        else:\n",
    "            if time.time() - self.last_sent > 10:\n",
    "                self.buffer = 'beat'.encode('utf-8')\n",
    "\n",
    "\n",
    "client = Client('localhost', 1234)\n",
    "asyncore.loop()"
   ]
  },
  {
   "cell_type": "code",
   "execution_count": null,
   "metadata": {},
   "outputs": [],
   "source": [
    "from pyensembl import EnsemblRelease\n",
    "#https://github.com/openvax/pyensembl\n",
    "\n",
    "#release 77 uses human reference genome GRCh38\n",
    "#release 75 uses human reference genome GRCh37\n",
    "data = EnsemblRelease(77)\n",
    "\n",
    "\n",
    "def sequence_from_coordinates(chromosome, strand, start, end, ref_genome=37):\n",
    "    '''\n",
    "    Download the nucleotide sequence from the gene_name.\n",
    "    \n",
    "    Params:\n",
    "            strand: \"1\" for the plus strand and \"2\" for the minus strand.\n",
    "            ref_genome: 37 or 38 only (GRCh number)\n",
    "    \n",
    "    '''\n",
    "    Entrez.email = \"a.marcozzi@umcutrecht.nl\" # Always tell NCBI who you are\n",
    "    \n",
    "    if int(ref_genome) == 37:\n",
    "        #GRCh37 from http://www.ncbi.nlm.nih.gov/assembly/GCF_000001405.25/#/def_asm_Primary_Assembly\n",
    "        NCBI_IDS = {'1':'NC_000001.10','2':'NC_000002.11','3':'NC_000003.11','4':'NC_000004.11',\n",
    "                    '5':'NC_000005.9','6':'NC_000006.11','7':'NC_000007.13','8':'NC_000008.10',\n",
    "                    '9':'NC_000009.11','10':'NC_000010.10','11':'NC_000011.9','12':'NC_000012.11',\n",
    "                    '13':'NC_000013.10','14':'NC_000014.8','15':'NC_000015.9','16':'NC_000016.9',\n",
    "                    '17':'NC_000017.10','18':'NC_000018.9','19':'NC_000019.9','20':'NC_000020.10',\n",
    "                    '21':'NC_000021.8','22':'NC_000022.10','X':'NC_000023.10','Y':'NC_000024.9'}\n",
    "    elif int(ref_genome) == 38:\n",
    "        #GRCh38 from https://www.ncbi.nlm.nih.gov/assembly/GCF_000001405.38\n",
    "        NCBI_IDS = {'1':'NC_000001.11','2':'NC_000002.12','3':'NC_000003.12','4':'NC_000004.12',\n",
    "                    '5':'NC_000005.10','6':'NC_000006.12','7':'NC_000007.14','8':'NC_000008.11',\n",
    "                    '9':'NC_000009.12','10':'NC_000010.11','11':'NC_000011.10','12':'NC_000012.12',\n",
    "                    '13':'NC_000013.11','14':'NC_000014.9','15':'NC_000015.10','16':'NC_000016.10',\n",
    "                    '17':'NC_000017.11','18':'NC_000018.10','19':'NC_000019.10','20':'NC_000020.11',\n",
    "                    '21':'NC_000021.9','22':'NC_000022.11','X':'NC_000023.11','Y':'NC_000024.10'}\n",
    "        \n",
    "  \n",
    "    try:        \n",
    "        handle = Entrez.efetch(db=\"nucleotide\", \n",
    "                               id=NCBI_IDS[str(chromosome)], \n",
    "                               rettype=\"fasta\", \n",
    "                               strand=strand, #\"1\" for the plus strand and \"2\" for the minus strand.\n",
    "                               seq_start=start,\n",
    "                               seq_stop=end)\n",
    "        record = SeqIO.read(handle, \"fasta\")\n",
    "        handle.close()\n",
    "        sequence = str(record.seq)\n",
    "        return sequence\n",
    "    except ValueError:\n",
    "        print('ValueError: no sequence found in NCBI')\n",
    "        return False"
   ]
  },
  {
   "cell_type": "code",
   "execution_count": null,
   "metadata": {},
   "outputs": [],
   "source": [
    "genes = ['SPEN','ANKRD36B','BRAF','AGAP3','SUMF2','EMC1','CHAC1','STK39','GPRC5C','E2F4','CAMK4','ZNF304']\n",
    "genes_seq = {}\n",
    "for gene_name in genes:\n",
    "    d = data.genes_by_name(gene_name)[0]\n",
    "    s = sequence_from_coordinates(chromosome=d.contig,\n",
    "                                  strand=1,\n",
    "                                  start=d.start,\n",
    "                                  end=d.end,\n",
    "                                  ref_genome=38)\n",
    "    genes_seq[gene_name] = s \n",
    "print('done')"
   ]
  },
  {
   "cell_type": "code",
   "execution_count": null,
   "metadata": {},
   "outputs": [],
   "source": [
    "for k,v in genes_seq.items():\n",
    "    print(f'\\n>{k}\\n{v}')"
   ]
  },
  {
   "cell_type": "code",
   "execution_count": null,
   "metadata": {},
   "outputs": [],
   "source": [
    "data.genes_by_name('ANKRD36B')"
   ]
  },
  {
   "cell_type": "code",
   "execution_count": null,
   "metadata": {},
   "outputs": [],
   "source": [
    "data.genes_by_name('SPEN')"
   ]
  },
  {
   "cell_type": "code",
   "execution_count": null,
   "metadata": {},
   "outputs": [],
   "source": [
    "a= {u'1009': {u'Avg': 188,\n",
    "      u'amount_spent': 2820,\n",
    "      u'size': 15,\n",
    "      u'users': {u'0': 346041,\n",
    "       u'1': 658546,\n",
    "       u'2': 658194,\n",
    "       u'3': 658316\n",
    "       }},\n",
    "    u'1056': {u'Avg': 140,\n",
    "      u'amount_spent': 140,\n",
    "      u'size': 1,\n",
    "      u'users': {u'0': 645767}},\n",
    "     u'1103': {u'Avg': 95,\n",
    "      u'amount_spent': 285,\n",
    "      u'size': 3,\n",
    "      u'users': {u'0': 339285, u'1': 658440}}}\n",
    "b = {u'1009': {u'Avg': 246.25,\n",
    "  u'amount_spent': 1970,\n",
    "  u'size': 8,\n",
    "  u'users': {u'0': 61496,\n",
    "   u'1': 1350,\n",
    "   u'2': 164852,\n",
    "   u'3': 517760,\n",
    "   u'4': 576458,\n",
    "   u'5': 203840,\n",
    "   u'6': 52239,\n",
    "   u'7': 516672}},\n",
    " u'1056': {u'Avg': 170,\n",
    "  u'amount_spent': 680,\n",
    "  u'size': 4,\n",
    "  u'users': {u'0': 503737, u'1': 624418, u'2': 642471}}}"
   ]
  },
  {
   "cell_type": "code",
   "execution_count": null,
   "metadata": {},
   "outputs": [],
   "source": [
    "def merge_dict(dictA, dictB):\n",
    "    '''(dict, dict) => dict\n",
    "    Merge two dicts, if they contain the same keys, it sums their values.\n",
    "    Return the merged dict.\n",
    "    \n",
    "    Example:\n",
    "        dictA = {'any key':1, 'point':{'x':2, 'y':3}, 'something':'aaaa'}\n",
    "        dictB = {'any key':1, 'point':{'x':2, 'y':3, 'z':0, 'even more nested':{'w':99}}, 'extra':8}\n",
    "        merge_dict(dictA, dictB)\n",
    "        \n",
    "        {'any key': 2,\n",
    "         'point': {'x': 4, 'y': 6, 'z': 0, 'even more nested': {'w': 99}},\n",
    "         'something': 'aaaa',\n",
    "         'extra': 8}\n",
    "    '''\n",
    "    r = {}\n",
    "    \n",
    "    common_k = [k for k in dictA if k in dictB]\n",
    "    common_k += [k for k in dictB if k in dictA]\n",
    "    common_k = set(common_k)\n",
    "    \n",
    "    for k, v in dictA.items():\n",
    "        #add unique k of dictA\n",
    "        if k not in common_k:\n",
    "            r[k] = v\n",
    "        \n",
    "        else:\n",
    "            #add inner keys if they are not containing other dicts \n",
    "            if type(v) is not dict:\n",
    "                if k in dictB:\n",
    "                    r[k] = v + dictB[k]\n",
    "            else:\n",
    "                #recursively merge the inner dicts\n",
    "                r[k] = merge_dict(dictA[k], dictB[k])\n",
    "    \n",
    "    #add unique k of dictB\n",
    "    for k, v in dictB.items():\n",
    "        if k not in common_k:\n",
    "            r[k] = v\n",
    "\n",
    "    return r\n",
    "            "
   ]
  },
  {
   "cell_type": "code",
   "execution_count": null,
   "metadata": {},
   "outputs": [],
   "source": [
    "merge_dict(a,b)"
   ]
  },
  {
   "cell_type": "code",
   "execution_count": null,
   "metadata": {},
   "outputs": [],
   "source": [
    "dictA = {'any key':1, 'point':{'x':2, 'y':3}, 'something':'aaaa'}\n",
    "dictB = {'any key':1, 'point':{'x':2, 'y':3, 'z':0, 'even more nested':{'w':99}}, 'extra':8}\n",
    "merge_dict(dictA, dictB)"
   ]
  },
  {
   "cell_type": "code",
   "execution_count": null,
   "metadata": {},
   "outputs": [],
   "source": [
    "a.update(b)\n",
    "a"
   ]
  },
  {
   "cell_type": "code",
   "execution_count": 21,
   "metadata": {},
   "outputs": [
    {
     "ename": "ImmediateDeprecationError",
     "evalue": "\nYahoo Actions has been immediately deprecated due to large breaks in the API without the\nintroduction of a stable replacement. Pull Requests to re-enable these data\nconnectors are welcome.\n\nSee https://github.com/pydata/pandas-datareader/issues\n",
     "output_type": "error",
     "traceback": [
      "\u001b[0;31m---------------------------------------------------------------------------\u001b[0m",
      "\u001b[0;31mImmediateDeprecationError\u001b[0m                 Traceback (most recent call last)",
      "\u001b[0;32m<ipython-input-21-dbee0da7d226>\u001b[0m in \u001b[0;36m<module>\u001b[0;34m()\u001b[0m\n\u001b[1;32m     20\u001b[0m \u001b[0;34m\u001b[0m\u001b[0m\n\u001b[1;32m     21\u001b[0m \u001b[0;31m# download dataframe\u001b[0m\u001b[0;34m\u001b[0m\u001b[0;34m\u001b[0m\u001b[0m\n\u001b[0;32m---> 22\u001b[0;31m \u001b[0mibm\u001b[0m \u001b[0;34m=\u001b[0m \u001b[0mpdr\u001b[0m\u001b[0;34m.\u001b[0m\u001b[0mget_data_yahoo\u001b[0m\u001b[0;34m(\u001b[0m\u001b[0;34m'APPL'\u001b[0m\u001b[0;34m,\u001b[0m \u001b[0mstart\u001b[0m\u001b[0;34m=\u001b[0m\u001b[0mdatetime\u001b[0m\u001b[0;34m(\u001b[0m\u001b[0;36m2018\u001b[0m\u001b[0;34m,\u001b[0m \u001b[0;36m1\u001b[0m\u001b[0;34m,\u001b[0m \u001b[0;36m1\u001b[0m\u001b[0;34m)\u001b[0m\u001b[0;34m,\u001b[0m \u001b[0mend\u001b[0m\u001b[0;34m=\u001b[0m\u001b[0mdatetime\u001b[0m\u001b[0;34m(\u001b[0m\u001b[0;36m2018\u001b[0m\u001b[0;34m,\u001b[0m \u001b[0;36m5\u001b[0m\u001b[0;34m,\u001b[0m \u001b[0;36m5\u001b[0m\u001b[0;34m)\u001b[0m\u001b[0;34m)\u001b[0m\u001b[0;34m\u001b[0m\u001b[0m\n\u001b[0m",
      "\u001b[0;32m~/miniconda3/lib/python3.6/site-packages/pandas_datareader/data.py\u001b[0m in \u001b[0;36mget_data_yahoo\u001b[0;34m(*args, **kwargs)\u001b[0m\n\u001b[1;32m     61\u001b[0m \u001b[0;34m\u001b[0m\u001b[0m\n\u001b[1;32m     62\u001b[0m \u001b[0;32mdef\u001b[0m \u001b[0mget_data_yahoo\u001b[0m\u001b[0;34m(\u001b[0m\u001b[0;34m*\u001b[0m\u001b[0margs\u001b[0m\u001b[0;34m,\u001b[0m \u001b[0;34m**\u001b[0m\u001b[0mkwargs\u001b[0m\u001b[0;34m)\u001b[0m\u001b[0;34m:\u001b[0m\u001b[0;34m\u001b[0m\u001b[0m\n\u001b[0;32m---> 63\u001b[0;31m     \u001b[0;32mraise\u001b[0m \u001b[0mImmediateDeprecationError\u001b[0m\u001b[0;34m(\u001b[0m\u001b[0mDEP_ERROR_MSG\u001b[0m\u001b[0;34m.\u001b[0m\u001b[0mformat\u001b[0m\u001b[0;34m(\u001b[0m\u001b[0;34m'Yahoo Actions'\u001b[0m\u001b[0;34m)\u001b[0m\u001b[0;34m)\u001b[0m\u001b[0;34m\u001b[0m\u001b[0m\n\u001b[0m\u001b[1;32m     64\u001b[0m     \u001b[0;32mreturn\u001b[0m \u001b[0mYahooDailyReader\u001b[0m\u001b[0;34m(\u001b[0m\u001b[0;34m*\u001b[0m\u001b[0margs\u001b[0m\u001b[0;34m,\u001b[0m \u001b[0;34m**\u001b[0m\u001b[0mkwargs\u001b[0m\u001b[0;34m)\u001b[0m\u001b[0;34m.\u001b[0m\u001b[0mread\u001b[0m\u001b[0;34m(\u001b[0m\u001b[0;34m)\u001b[0m\u001b[0;34m\u001b[0m\u001b[0m\n\u001b[1;32m     65\u001b[0m \u001b[0;34m\u001b[0m\u001b[0m\n",
      "\u001b[0;31mImmediateDeprecationError\u001b[0m: \nYahoo Actions has been immediately deprecated due to large breaks in the API without the\nintroduction of a stable replacement. Pull Requests to re-enable these data\nconnectors are welcome.\n\nSee https://github.com/pydata/pandas-datareader/issues\n"
     ]
    }
   ],
   "source": [
    "\n",
    "\n",
    "def heikin_ashi(O, H, L, C, oldO, oldC):\n",
    "    '''\n",
    "    Generates a Heikin-Ashi candle from ticker data.\n",
    "    '''\n",
    "    HA_Close = (O + H + L + C)/4\n",
    "    HA_Open = (oldO + oldC)/2\n",
    "    elements = np.array([H, L, HA_Open, HA_Close])\n",
    "    HA_High = elements.max(0) \n",
    "    HA_Low = elements.min(0)   \n",
    "    return np.array([HA_Open, HA_High, HA_Low, HA_Close])\n"
   ]
  },
  {
   "cell_type": "code",
   "execution_count": 18,
   "metadata": {},
   "outputs": [
    {
     "data": {
      "text/html": [
       "<div>\n",
       "<style scoped>\n",
       "    .dataframe tbody tr th:only-of-type {\n",
       "        vertical-align: middle;\n",
       "    }\n",
       "\n",
       "    .dataframe tbody tr th {\n",
       "        vertical-align: top;\n",
       "    }\n",
       "\n",
       "    .dataframe thead th {\n",
       "        text-align: right;\n",
       "    }\n",
       "</style>\n",
       "<table border=\"1\" class=\"dataframe\">\n",
       "  <thead>\n",
       "    <tr style=\"text-align: right;\">\n",
       "      <th></th>\n",
       "    </tr>\n",
       "  </thead>\n",
       "  <tbody>\n",
       "  </tbody>\n",
       "</table>\n",
       "</div>"
      ],
      "text/plain": [
       "Empty DataFrame\n",
       "Columns: []\n",
       "Index: []"
      ]
     },
     "execution_count": 18,
     "metadata": {},
     "output_type": "execute_result"
    }
   ],
   "source": [
    "data.head()"
   ]
  },
  {
   "cell_type": "code",
   "execution_count": null,
   "metadata": {},
   "outputs": [],
   "source": [
    "!pip install fix_yahoo_finance"
   ]
  },
  {
   "cell_type": "code",
   "execution_count": null,
   "metadata": {},
   "outputs": [],
   "source": []
  }
 ],
 "metadata": {
  "kernelspec": {
   "display_name": "Python 3",
   "language": "python",
   "name": "python3"
  },
  "language_info": {
   "codemirror_mode": {
    "name": "ipython",
    "version": 3
   },
   "file_extension": ".py",
   "mimetype": "text/x-python",
   "name": "python",
   "nbconvert_exporter": "python",
   "pygments_lexer": "ipython3",
   "version": "3.6.5"
  }
 },
 "nbformat": 4,
 "nbformat_minor": 2
}
