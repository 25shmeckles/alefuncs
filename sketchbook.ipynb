{
 "cells": [
  {
   "cell_type": "code",
   "execution_count": 3,
   "metadata": {},
   "outputs": [],
   "source": [
    "from alefuncs import *"
   ]
  },
  {
   "cell_type": "code",
   "execution_count": 40,
   "metadata": {},
   "outputs": [],
   "source": [
    "from subprocess import run\n",
    "import pexpect\n",
    "from getpass import getpass\n",
    "\n",
    "def ssl_encrypt(infile, outfile):\n",
    "    '''(file_path, file_path) => encrypted_file\n",
    "    Uses openssl to encrypt/decrypt files.\n",
    "    '''\n",
    "    pwd = getpass('enter encryption pwd:')\n",
    "    if getpass('repeat pwd:') == pwd:\n",
    "        run(f'openssl enc -aes-256-cbc -a -salt -pass pass:{pwd} -in {infile} -out {outfile}',shell=True)\n",
    "    else:\n",
    "        print(\"passwords don't match.\")\n",
    "\n",
    "    \n",
    "def ssl_decrypt(infile, outfile):\n",
    "    '''(file_path, file_path) => decrypted_file\n",
    "    Uses openssl to encrypt/decrypt files.\n",
    "    '''\n",
    "    pwd = getpass('enter decryption pwd:')\n",
    "    run(f'openssl enc -d -aes-256-cbc -a -pass pass:{pwd} -in {infile} -out {outfile}', shell=True)"
   ]
  },
  {
   "cell_type": "code",
   "execution_count": 25,
   "metadata": {},
   "outputs": [
    {
     "name": "stdout",
     "output_type": "stream",
     "text": [
      "openssl aes-256-cbc -a -salt -in alefuncs.py -out alefuncs.enc\n",
      "openssl enc -d -aes-256-cbc -in alefuncs.enc -out alefuncs.dec.py\n"
     ]
    }
   ],
   "source": [
    "infile = 'alefuncs.py'\n",
    "outfile = 'alefuncs.enc'\n",
    "print(f'openssl aes-256-cbc -a -salt -in {infile} -out {outfile} -base64')\n",
    "\n",
    "infile = 'alefuncs.enc'\n",
    "outfile = 'alefuncs.dec.py'\n",
    "print(f'openssl enc -d -aes-256-cbc -in {infile} -out {outfile}')"
   ]
  },
  {
   "cell_type": "code",
   "execution_count": 42,
   "metadata": {},
   "outputs": [
    {
     "name": "stdout",
     "output_type": "stream",
     "text": [
      "enter encryption pwd:········\n",
      "repeat pwd:········\n",
      "enter decryption pwd:········\n"
     ]
    }
   ],
   "source": [
    "ssl_encrypt('alefuncs.py','alefuncs.enc')\n",
    "ssl_decrypt('alefuncs.enc', 'a2.py')"
   ]
  },
  {
   "cell_type": "code",
   "execution_count": 41,
   "metadata": {},
   "outputs": [
    {
     "name": "stdout",
     "output_type": "stream",
     "text": [
      "enter decryption pwd:········\n"
     ]
    }
   ],
   "source": []
  },
  {
   "cell_type": "code",
   "execution_count": 33,
   "metadata": {},
   "outputs": [
    {
     "name": "stdout",
     "output_type": "stream",
     "text": [
      "password········\n"
     ]
    },
    {
     "data": {
      "text/plain": [
       "CompletedProcess(args='openssl enc -aes-256-cbc -pass hayoo666 -p -in alefuncs.py -out alefuncs.enc -base64', returncode=1)"
      ]
     },
     "execution_count": 33,
     "metadata": {},
     "output_type": "execute_result"
    }
   ],
   "source": [
    "run(f'openssl enc -aes-256-cbc -pass  -p -in alefuncs.py -out alefuncs.enc -base64',shell=True)\n"
   ]
  },
  {
   "cell_type": "code",
   "execution_count": null,
   "metadata": {},
   "outputs": [],
   "source": []
  }
 ],
 "metadata": {
  "kernelspec": {
   "display_name": "Python 3",
   "language": "python",
   "name": "python3"
  },
  "language_info": {
   "codemirror_mode": {
    "name": "ipython",
    "version": 3
   },
   "file_extension": ".py",
   "mimetype": "text/x-python",
   "name": "python",
   "nbconvert_exporter": "python",
   "pygments_lexer": "ipython3",
   "version": "3.6.3"
  }
 },
 "nbformat": 4,
 "nbformat_minor": 2
}
