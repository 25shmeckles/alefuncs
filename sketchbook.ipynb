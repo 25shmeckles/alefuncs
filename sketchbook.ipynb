{
 "cells": [
  {
   "cell_type": "code",
   "execution_count": null,
   "metadata": {},
   "outputs": [],
   "source": [
    "from alefuncs import *"
   ]
  },
  {
   "cell_type": "code",
   "execution_count": null,
   "metadata": {},
   "outputs": [],
   "source": [
    "from subprocess import run\n",
    "import pexpect\n",
    "from getpass import getpass\n",
    "\n",
    "def ssl_encrypt(infile, outfile):\n",
    "    '''(file_path, file_path) => encrypted_file\n",
    "    Uses openssl to encrypt/decrypt files.\n",
    "    '''\n",
    "    pwd = getpass('enter encryption pwd:')\n",
    "    if getpass('repeat pwd:') == pwd:\n",
    "        run(f'openssl enc -aes-256-cbc -a -salt -pass pass:{pwd} -in {infile} -out {outfile}',shell=True)\n",
    "    else:\n",
    "        print(\"passwords don't match.\")\n",
    "\n",
    "    \n",
    "def ssl_decrypt(infile, outfile):\n",
    "    '''(file_path, file_path) => decrypted_file\n",
    "    Uses openssl to encrypt/decrypt files.\n",
    "    '''\n",
    "    pwd = getpass('enter decryption pwd:')\n",
    "    run(f'openssl enc -d -aes-256-cbc -a -pass pass:{pwd} -in {infile} -out {outfile}', shell=True)"
   ]
  },
  {
   "cell_type": "code",
   "execution_count": null,
   "metadata": {},
   "outputs": [],
   "source": [
    "infile = 'alefuncs.py'\n",
    "outfile = 'alefuncs.enc'\n",
    "print(f'openssl aes-256-cbc -a -salt -in {infile} -out {outfile} -base64')\n",
    "\n",
    "infile = 'alefuncs.enc'\n",
    "outfile = 'alefuncs.dec.py'\n",
    "print(f'openssl enc -d -aes-256-cbc -in {infile} -out {outfile}')"
   ]
  },
  {
   "cell_type": "code",
   "execution_count": null,
   "metadata": {},
   "outputs": [],
   "source": [
    "ssl_encrypt('alefuncs.py','alefuncs.enc')\n",
    "ssl_decrypt('alefuncs.enc', 'a2.py')"
   ]
  },
  {
   "cell_type": "code",
   "execution_count": null,
   "metadata": {},
   "outputs": [],
   "source": []
  },
  {
   "cell_type": "code",
   "execution_count": null,
   "metadata": {},
   "outputs": [],
   "source": [
    "run(f'openssl enc -aes-256-cbc -pass  -p -in alefuncs.py -out alefuncs.enc -base64',shell=True)\n"
   ]
  },
  {
   "cell_type": "code",
   "execution_count": null,
   "metadata": {},
   "outputs": [],
   "source": [
    "import socket   #for sockets\n",
    "import time\n",
    "\n",
    "class Server:\n",
    "    def __init__(self):\n",
    "        self.id = 'server.007'\n",
    "        self.ssocket = socket.socket(socket.AF_INET,socket.SOCK_STREAM)\n",
    "        self.host = 'localhost'\n",
    "        self.port = 7899\n",
    "        \n",
    "    def start(self):\n",
    "        start_time = time.time()\n",
    "        print(f'{self.id} started')\n",
    "        self.ssocket.bind((self.host, self.port))\n",
    "        self.ssocket.listen(5) # queue up to 5 requests\n",
    "        \n",
    "        try:\n",
    "            while True:\n",
    "                # establish a connection\n",
    "                clientsocket, addr = self.ssocket.accept()      \n",
    "                print(f'Got a connection from {addr}')\n",
    "                currentTime = time.ctime(time.time()) + \"\\r\\n\"\n",
    "                clientsocket.send(currentTime.encode('ascii'))\n",
    "                clientsocket.close()                  \n",
    "        except KeyboardInterrupt:\n",
    "            return self.terminate()\n",
    "        \n",
    "        \n",
    "            \n",
    "    def terminate(self):\n",
    "        print(f'{self.id} terminated')\n",
    "        self.ssocket.close()\n",
    "        "
   ]
  },
  {
   "cell_type": "code",
   "execution_count": null,
   "metadata": {},
   "outputs": [],
   "source": [
    "s = Server()\n",
    "s.start()"
   ]
  },
  {
   "cell_type": "code",
   "execution_count": null,
   "metadata": {},
   "outputs": [],
   "source": [
    "s.host"
   ]
  },
  {
   "cell_type": "code",
   "execution_count": null,
   "metadata": {},
   "outputs": [],
   "source": [
    "import asyncore\n",
    "\n",
    "class Handler(asyncore.dispatcher):\n",
    "    def __init__(self, sock):\n",
    "        self.buffer = b''\n",
    "        super().__init__(sock)\n",
    "\n",
    "    def handle_read(self):\n",
    "        self.buffer += self.recv(1024)\n",
    "        print(f'current buffer: {repr(self.buffer)}')\n",
    "\n",
    "\n",
    "class Server(asyncore.dispatcher):\n",
    "    def __init__(self, host, port):\n",
    "        asyncore.dispatcher.__init__(self)\n",
    "        self.create_socket()\n",
    "        self.set_reuse_addr()\n",
    "        self.bind((host, port))\n",
    "        self.listen(5)\n",
    "\n",
    "    def handle_accepted(self, sock, addr):\n",
    "        print(f'Incoming connection from {repr(addr)}')\n",
    "        Handler(sock)\n",
    "\n",
    "\n",
    "if __name__ == \"__main__\":\n",
    "    server = Server(\"localhost\", 1234)\n",
    "    asyncore.loop()"
   ]
  },
  {
   "cell_type": "code",
   "execution_count": 6,
   "metadata": {},
   "outputs": [
    {
     "name": "stdout",
     "output_type": "stream",
     "text": [
      "Sent: 11\n",
      "Sent: 4\n",
      "Sent: 4\n",
      "Sent: 4\n",
      "Sent: 4\n",
      "Sent: 4\n"
     ]
    },
    {
     "ename": "KeyboardInterrupt",
     "evalue": "",
     "output_type": "error",
     "traceback": [
      "\u001b[0;31m---------------------------------------------------------------------------\u001b[0m",
      "\u001b[0;31mKeyboardInterrupt\u001b[0m                         Traceback (most recent call last)",
      "\u001b[0;32m<ipython-input-6-41a4b5747300>\u001b[0m in \u001b[0;36m<module>\u001b[0;34m()\u001b[0m\n\u001b[1;32m     37\u001b[0m \u001b[0;34m\u001b[0m\u001b[0m\n\u001b[1;32m     38\u001b[0m \u001b[0mclient\u001b[0m \u001b[0;34m=\u001b[0m \u001b[0mClient\u001b[0m\u001b[0;34m(\u001b[0m\u001b[0;34m'localhost'\u001b[0m\u001b[0;34m,\u001b[0m \u001b[0;36m1234\u001b[0m\u001b[0;34m)\u001b[0m\u001b[0;34m\u001b[0m\u001b[0m\n\u001b[0;32m---> 39\u001b[0;31m \u001b[0masyncore\u001b[0m\u001b[0;34m.\u001b[0m\u001b[0mloop\u001b[0m\u001b[0;34m(\u001b[0m\u001b[0;34m)\u001b[0m\u001b[0;34m\u001b[0m\u001b[0m\n\u001b[0m",
      "\u001b[0;32m~/miniconda3/lib/python3.6/asyncore.py\u001b[0m in \u001b[0;36mloop\u001b[0;34m(timeout, use_poll, map, count)\u001b[0m\n\u001b[1;32m    201\u001b[0m     \u001b[0;32mif\u001b[0m \u001b[0mcount\u001b[0m \u001b[0;32mis\u001b[0m \u001b[0;32mNone\u001b[0m\u001b[0;34m:\u001b[0m\u001b[0;34m\u001b[0m\u001b[0m\n\u001b[1;32m    202\u001b[0m         \u001b[0;32mwhile\u001b[0m \u001b[0mmap\u001b[0m\u001b[0;34m:\u001b[0m\u001b[0;34m\u001b[0m\u001b[0m\n\u001b[0;32m--> 203\u001b[0;31m             \u001b[0mpoll_fun\u001b[0m\u001b[0;34m(\u001b[0m\u001b[0mtimeout\u001b[0m\u001b[0;34m,\u001b[0m \u001b[0mmap\u001b[0m\u001b[0;34m)\u001b[0m\u001b[0;34m\u001b[0m\u001b[0m\n\u001b[0m\u001b[1;32m    204\u001b[0m \u001b[0;34m\u001b[0m\u001b[0m\n\u001b[1;32m    205\u001b[0m     \u001b[0;32melse\u001b[0m\u001b[0;34m:\u001b[0m\u001b[0;34m\u001b[0m\u001b[0m\n",
      "\u001b[0;32m~/miniconda3/lib/python3.6/asyncore.py\u001b[0m in \u001b[0;36mpoll\u001b[0;34m(timeout, map)\u001b[0m\n\u001b[1;32m    154\u001b[0m             \u001b[0;32mif\u001b[0m \u001b[0mobj\u001b[0m \u001b[0;32mis\u001b[0m \u001b[0;32mNone\u001b[0m\u001b[0;34m:\u001b[0m\u001b[0;34m\u001b[0m\u001b[0m\n\u001b[1;32m    155\u001b[0m                 \u001b[0;32mcontinue\u001b[0m\u001b[0;34m\u001b[0m\u001b[0m\n\u001b[0;32m--> 156\u001b[0;31m             \u001b[0mwrite\u001b[0m\u001b[0;34m(\u001b[0m\u001b[0mobj\u001b[0m\u001b[0;34m)\u001b[0m\u001b[0;34m\u001b[0m\u001b[0m\n\u001b[0m\u001b[1;32m    157\u001b[0m \u001b[0;34m\u001b[0m\u001b[0m\n\u001b[1;32m    158\u001b[0m         \u001b[0;32mfor\u001b[0m \u001b[0mfd\u001b[0m \u001b[0;32min\u001b[0m \u001b[0me\u001b[0m\u001b[0;34m:\u001b[0m\u001b[0;34m\u001b[0m\u001b[0m\n",
      "\u001b[0;32m~/miniconda3/lib/python3.6/asyncore.py\u001b[0m in \u001b[0;36mwrite\u001b[0;34m(obj)\u001b[0m\n\u001b[1;32m     89\u001b[0m \u001b[0;32mdef\u001b[0m \u001b[0mwrite\u001b[0m\u001b[0;34m(\u001b[0m\u001b[0mobj\u001b[0m\u001b[0;34m)\u001b[0m\u001b[0;34m:\u001b[0m\u001b[0;34m\u001b[0m\u001b[0m\n\u001b[1;32m     90\u001b[0m     \u001b[0;32mtry\u001b[0m\u001b[0;34m:\u001b[0m\u001b[0;34m\u001b[0m\u001b[0m\n\u001b[0;32m---> 91\u001b[0;31m         \u001b[0mobj\u001b[0m\u001b[0;34m.\u001b[0m\u001b[0mhandle_write_event\u001b[0m\u001b[0;34m(\u001b[0m\u001b[0;34m)\u001b[0m\u001b[0;34m\u001b[0m\u001b[0m\n\u001b[0m\u001b[1;32m     92\u001b[0m     \u001b[0;32mexcept\u001b[0m \u001b[0m_reraised_exceptions\u001b[0m\u001b[0;34m:\u001b[0m\u001b[0;34m\u001b[0m\u001b[0m\n\u001b[1;32m     93\u001b[0m         \u001b[0;32mraise\u001b[0m\u001b[0;34m\u001b[0m\u001b[0m\n",
      "\u001b[0;32m~/miniconda3/lib/python3.6/asyncore.py\u001b[0m in \u001b[0;36mhandle_write_event\u001b[0;34m(self)\u001b[0m\n\u001b[1;32m    440\u001b[0m             \u001b[0;32mif\u001b[0m \u001b[0mself\u001b[0m\u001b[0;34m.\u001b[0m\u001b[0mconnecting\u001b[0m\u001b[0;34m:\u001b[0m\u001b[0;34m\u001b[0m\u001b[0m\n\u001b[1;32m    441\u001b[0m                 \u001b[0mself\u001b[0m\u001b[0;34m.\u001b[0m\u001b[0mhandle_connect_event\u001b[0m\u001b[0;34m(\u001b[0m\u001b[0;34m)\u001b[0m\u001b[0;34m\u001b[0m\u001b[0m\n\u001b[0;32m--> 442\u001b[0;31m         \u001b[0mself\u001b[0m\u001b[0;34m.\u001b[0m\u001b[0mhandle_write\u001b[0m\u001b[0;34m(\u001b[0m\u001b[0;34m)\u001b[0m\u001b[0;34m\u001b[0m\u001b[0m\n\u001b[0m\u001b[1;32m    443\u001b[0m \u001b[0;34m\u001b[0m\u001b[0m\n\u001b[1;32m    444\u001b[0m     \u001b[0;32mdef\u001b[0m \u001b[0mhandle_expt_event\u001b[0m\u001b[0;34m(\u001b[0m\u001b[0mself\u001b[0m\u001b[0;34m)\u001b[0m\u001b[0;34m:\u001b[0m\u001b[0;34m\u001b[0m\u001b[0m\n",
      "\u001b[0;32m<ipython-input-5-bbbe6c4202d1>\u001b[0m in \u001b[0;36mhandle_write\u001b[0;34m(self)\u001b[0m\n\u001b[1;32m     32\u001b[0m             \u001b[0mself\u001b[0m\u001b[0;34m.\u001b[0m\u001b[0mlast_sent\u001b[0m \u001b[0;34m=\u001b[0m \u001b[0mtime\u001b[0m\u001b[0;34m.\u001b[0m\u001b[0mtime\u001b[0m\u001b[0;34m(\u001b[0m\u001b[0;34m)\u001b[0m\u001b[0;34m\u001b[0m\u001b[0m\n\u001b[1;32m     33\u001b[0m         \u001b[0;32melse\u001b[0m\u001b[0;34m:\u001b[0m\u001b[0;34m\u001b[0m\u001b[0m\n\u001b[0;32m---> 34\u001b[0;31m             \u001b[0mtime\u001b[0m\u001b[0;34m.\u001b[0m\u001b[0msleep\u001b[0m\u001b[0;34m(\u001b[0m\u001b[0;36m1\u001b[0m\u001b[0;34m)\u001b[0m\u001b[0;34m\u001b[0m\u001b[0m\n\u001b[0m\u001b[1;32m     35\u001b[0m             \u001b[0;32mif\u001b[0m \u001b[0mtime\u001b[0m\u001b[0;34m.\u001b[0m\u001b[0mtime\u001b[0m\u001b[0;34m(\u001b[0m\u001b[0;34m)\u001b[0m \u001b[0;34m-\u001b[0m \u001b[0mself\u001b[0m\u001b[0;34m.\u001b[0m\u001b[0mlast_sent\u001b[0m \u001b[0;34m>\u001b[0m \u001b[0;36m10\u001b[0m\u001b[0;34m:\u001b[0m\u001b[0;34m\u001b[0m\u001b[0m\n\u001b[1;32m     36\u001b[0m                 \u001b[0mself\u001b[0m\u001b[0;34m.\u001b[0m\u001b[0mbuffer\u001b[0m \u001b[0;34m=\u001b[0m \u001b[0;34m'beat'\u001b[0m\u001b[0;34m.\u001b[0m\u001b[0mencode\u001b[0m\u001b[0;34m(\u001b[0m\u001b[0;34m'utf-8'\u001b[0m\u001b[0;34m)\u001b[0m\u001b[0;34m\u001b[0m\u001b[0m\n",
      "\u001b[0;31mKeyboardInterrupt\u001b[0m: "
     ]
    }
   ],
   "source": [
    "import asyncore, time\n",
    "\n",
    "class Client(asyncore.dispatcher):\n",
    "\n",
    "    def __init__(self, host, port):\n",
    "        asyncore.dispatcher.__init__(self)\n",
    "        self.create_socket()\n",
    "        self.connect( (host, port) )\n",
    "        self.buffer = bytes(\"hello world\", 'ascii')\n",
    "        self.last_sent = time.time()\n",
    "\n",
    "    def handle_connect(self):\n",
    "        pass\n",
    "\n",
    "    def handle_close(self):\n",
    "        self.close()\n",
    "\n",
    "    def handle_read(self):\n",
    "        print('Re: ', self.recv(1024))\n",
    "\n",
    "    def writable(self):\n",
    "        return (len(self.buffer) > 0)\n",
    "\n",
    "    def writable(self):\n",
    "        return True\n",
    "\n",
    "    def handle_write(self):\n",
    "        sent = self.send(self.buffer)\n",
    "        if sent:\n",
    "            print('Sent:', sent)\n",
    "            self.buffer = self.buffer[sent:]\n",
    "            self.last_sent = time.time()\n",
    "        else:\n",
    "            if time.time() - self.last_sent > 10:\n",
    "                self.buffer = 'beat'.encode('utf-8')\n",
    "\n",
    "\n",
    "client = Client('localhost', 1234)\n",
    "asyncore.loop()"
   ]
  },
  {
   "cell_type": "code",
   "execution_count": null,
   "metadata": {},
   "outputs": [],
   "source": []
  }
 ],
 "metadata": {
  "kernelspec": {
   "display_name": "Python 3",
   "language": "python",
   "name": "python3"
  }
 },
 "nbformat": 4,
 "nbformat_minor": 2
}
