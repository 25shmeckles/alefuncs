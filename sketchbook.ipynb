{
 "cells": [
  {
   "cell_type": "code",
   "execution_count": 1,
   "metadata": {
    "ExecuteTime": {
     "end_time": "2020-09-27T08:59:47.940114Z",
     "start_time": "2020-09-27T08:59:47.931480Z"
    }
   },
   "outputs": [],
   "source": [
    "##Alec's Playgound##"
   ]
  },
  {
   "cell_type": "code",
   "execution_count": 2,
   "metadata": {
    "ExecuteTime": {
     "end_time": "2020-09-27T08:59:55.487171Z",
     "start_time": "2020-09-27T08:59:47.950083Z"
    }
   },
   "outputs": [],
   "source": [
    "from alefuncs import *"
   ]
  },
  {
   "cell_type": "code",
   "execution_count": 38,
   "metadata": {
    "ExecuteTime": {
     "end_time": "2020-09-27T10:45:22.614365Z",
     "start_time": "2020-09-27T10:45:22.600862Z"
    }
   },
   "outputs": [],
   "source": [
    "def snp237(snp_number):\n",
    "    \"\"\"int => list\n",
    "    Return the genomic position of a SNP on the GCRh37 reference genome.\n",
    "    \"\"\"\n",
    "    \n",
    "    if type(snp_number) is str \\\n",
    "    and snp_number.lower().startswith('rs'):\n",
    "        snp_number = snp_number[2:]\n",
    "    query = f\"https://www.snpedia.com/index.php/Rs{snp_number}\"\n",
    "    html = urlopen(query).read().decode(\"utf-8\")\n",
    "    for line in html.split(\"\\n\"):\n",
    "        if line.startswith('<tbody><tr><td width=\"90\">Reference</td>'):\n",
    "            reference = line.split('\"')[-2]\n",
    "        elif line.startswith('<tbody><tr><td width=\"90\">Chromosome</td>'):\n",
    "            chromosome = line.split(\"<td>\")[1].split(\"<\")[0]\n",
    "        elif line.startswith('<tbody><tr><td width=\"90\">Position</td>'):\n",
    "            position = int(line.split(\"<td>\")[1].split(\"<\")[0])\n",
    "            break\n",
    "\n",
    "    if \"GRCh38\" in reference:\n",
    "        lo = LiftOver(\"hg38\", \"hg19\")\n",
    "        return lo.convert_coordinate(f\"chr{chromosome}\", position)[0][:2]\n",
    "    else:\n",
    "        return f\"chr{chromosome}\", position\n",
    "\n",
    "def get_snp_number(snp_string):\n",
    "    return int(snp_string[2:])"
   ]
  },
  {
   "cell_type": "code",
   "execution_count": 39,
   "metadata": {
    "ExecuteTime": {
     "end_time": "2020-09-27T10:48:35.950058Z",
     "start_time": "2020-09-27T10:45:24.721028Z"
    }
   },
   "outputs": [
    {
     "name": "stdout",
     "output_type": "stream",
     "text": [
      "#SNPs found on ALESSIO's BAM file AM2.bam\n",
      "rs5882 ('chr16', 57016092) {'A': 10, 'G': 6}\n",
      "rs1042522 ('chr17', 7579472) {'G': 11}\n",
      "rs1061170 ('chr1', 196659237) {'C': 10, 'T': 14}\n",
      "rs1800795 ('chr7', 22766645) {'C': 17, 'G': 15}\n",
      "rs1935949 ('chr6', 108999287) {'G': 27}\n",
      "rs2542052 ('chr11', 116699984) {'A': 7, 'C': 9}\n",
      "rs2764264 ('chr6', 108934461) {'G': 1, 'T': 30}\n",
      "rs2802292 ('chr6', 108908518) {'G': 18}\n",
      "rs2811712 ('chr9', 21998035) {'A': 38}\n",
      "rs3758391 ('chr10', 69643342) {'C': 7, 'T': 16}\n",
      "rs3803304 ('chr14', 105239146) {'C': 30}\n",
      "rs6873545 ('chr5', 42631264) {'T': 32}\n",
      "rs13217795 ('chr6', 108974098) {'T': 27}\n",
      "rs34516635 ('chr15', 99451976) {'G': 37}\n",
      "DONE\n",
      "\n",
      "#SNPs found on ALINA's BAM file AM1.bam\n",
      "rs5882 ('chr16', 57016092) {'$': 1, 'A': 28, 'C': 1}\n",
      "rs1042522 ('chr17', 7579472) {'G': 31}\n",
      "rs1061170 ('chr1', 196659237) {'$': 1, 'C': 17, 'T': 10}\n",
      "rs1800795 ('chr7', 22766645) {'G': 25}\n",
      "rs1935949 ('chr6', 108999287) {'G': 25}\n",
      "rs2542052 ('chr11', 116699984) {'C': 12}\n",
      "rs2764264 ('chr6', 108934461) {'T': 28}\n",
      "rs2802292 ('chr6', 108908518) {'G': 1, 'T': 20}\n",
      "rs2811712 ('chr9', 21998035) {'$': 1, 'A': 35}\n",
      "rs3758391 ('chr10', 69643342) {'C': 14, 'T': 12}\n",
      "rs3803304 ('chr14', 105239146) {'C': 18}\n",
      "rs6873545 ('chr5', 42631264) {'T': 26, ']': 1, '^': 1}\n",
      "rs13217795 ('chr6', 108974098) {'T': 20}\n",
      "rs34516635 ('chr15', 99451976) {'G': 25}\n",
      "DONE\n",
      "\n"
     ]
    }
   ],
   "source": [
    "#https://en.wikipedia.org/wiki/Pileup_format\n",
    "\n",
    "longevity_snps = set([\n",
    "    'rs2764264',\n",
    "    'rs13217795',\n",
    "    'rs2802292',\n",
    "    'rs1935949',\n",
    "    'rs3758391',\n",
    "    'rs5882',\n",
    "    'rs1042522',\n",
    "    'rs1800795',\n",
    "    'rs2811712',\n",
    "    'rs34516635',\n",
    "    'rs2542052',\n",
    "    'rs3803304',\n",
    "    'rs1061170',\n",
    "    'rs6873545' \n",
    "])\n",
    "longevity_snps = sorted([get_snp_number(snp) for snp in longevity_snps])\n",
    "bam_files = {\n",
    "    'ALESSIO':'/Volumes/500GB/AM_GENOME/bams/AM2.bam',\n",
    "    'ALINA':'/Volumes/500GB/AM_GENOME/bams/AM1.bam',\n",
    "}\n",
    "\n",
    "for patient, bam_file in bam_files.items():\n",
    "    print(f\"#SNPs found on {patient}'s BAM file {bam_file.split('/')[-1]}\")\n",
    "    for snp in longevity_snps:\n",
    "        coord = snp237(snp)\n",
    "        chrom, pos = coord\n",
    "        chrom = chrom[3:]\n",
    "        #!samtools mpileup -r $chrom:$pos-$pos $bam_file\n",
    "        r = check_output(f'samtools mpileup -r {chrom}:{pos}-{pos} {bam_file}', shell=True)\n",
    "        r = r.decode().strip().split('\\t')[-2].upper()\n",
    "        bases = set(r)\n",
    "        genotype = dict([(b,r.count(b)) for b in sorted(bases)])\n",
    "        print(f'rs{snp}', coord, genotype)\n",
    "        #break\n",
    "    print('DONE')\n",
    "    print()"
   ]
  },
  {
   "cell_type": "code",
   "execution_count": 27,
   "metadata": {
    "ExecuteTime": {
     "end_time": "2020-09-27T10:16:46.767663Z",
     "start_time": "2020-09-27T10:16:46.531789Z"
    }
   },
   "outputs": [
    {
     "data": {
      "text/plain": [
       "{'G': 6, 'A': 10}"
      ]
     },
     "execution_count": 27,
     "metadata": {},
     "output_type": "execute_result"
    }
   ],
   "source": [
    "r = check_output(f'samtools mpileup -r {chrom}:{pos}-{pos} {bam_file}', shell=True)\n",
    "r = r.decode().strip().split('\\t')[-2].upper()\n",
    "bases = set(r)\n",
    "genotype = dict([(b,r.count(b)) for b in bases])\n",
    "genotype\n",
    "    "
   ]
  },
  {
   "cell_type": "code",
   "execution_count": 25,
   "metadata": {
    "ExecuteTime": {
     "end_time": "2020-09-27T10:13:45.021899Z",
     "start_time": "2020-09-27T10:13:45.013086Z"
    }
   },
   "outputs": [
    {
     "data": {
      "text/plain": [
       "'GGAAGAAGGAAAGAAA'"
      ]
     },
     "execution_count": 25,
     "metadata": {},
     "output_type": "execute_result"
    }
   ],
   "source": [
    "r = r.decode().strip().split('\\t')[-2].upper()"
   ]
  },
  {
   "cell_type": "code",
   "execution_count": 5,
   "metadata": {
    "ExecuteTime": {
     "end_time": "2020-09-27T09:01:58.651130Z",
     "start_time": "2020-09-27T09:01:57.959459Z"
    }
   },
   "outputs": [],
   "source": [
    "snp_number = '2764264'\n",
    "query = f\"https://www.snpedia.com/index.php/Rs{snp_number}\"\n",
    "html = urlopen(query).read().decode(\"utf-8\")"
   ]
  },
  {
   "cell_type": "code",
   "execution_count": 16,
   "metadata": {
    "ExecuteTime": {
     "end_time": "2020-09-27T10:08:23.074939Z",
     "start_time": "2020-09-27T10:08:22.752024Z"
    }
   },
   "outputs": [
    {
     "name": "stdout",
     "output_type": "stream",
     "text": [
      "[mpileup] 1 samples in 1 input files\r\n"
     ]
    }
   ],
   "source": [
    "bam_file = '/Volumes/500GB/AM_GENOME/bams/AM2.bam'\n",
    "samtools mpileup -r 5:0-100 $bam_file"
   ]
  },
  {
   "cell_type": "code",
   "execution_count": 14,
   "metadata": {
    "ExecuteTime": {
     "end_time": "2020-09-27T09:39:31.156803Z",
     "start_time": "2020-09-27T09:19:02.335138Z"
    }
   },
   "outputs": [],
   "source": [
    "!samtools index $bam_file"
   ]
  },
  {
   "cell_type": "code",
   "execution_count": null,
   "metadata": {},
   "outputs": [],
   "source": [
    "df = pd.DataFrame({})"
   ]
  }
 ],
 "metadata": {
  "kernelspec": {
   "display_name": "Python 3",
   "language": "python",
   "name": "python3"
  },
  "language_info": {
   "codemirror_mode": {
    "name": "ipython",
    "version": 3
   },
   "file_extension": ".py",
   "mimetype": "text/x-python",
   "name": "python",
   "nbconvert_exporter": "python",
   "pygments_lexer": "ipython3",
   "version": "3.6.10"
  },
  "varInspector": {
   "cols": {
    "lenName": 16,
    "lenType": 16,
    "lenVar": 40
   },
   "kernels_config": {
    "python": {
     "delete_cmd_postfix": "",
     "delete_cmd_prefix": "del ",
     "library": "var_list.py",
     "varRefreshCmd": "print(var_dic_list())"
    },
    "r": {
     "delete_cmd_postfix": ") ",
     "delete_cmd_prefix": "rm(",
     "library": "var_list.r",
     "varRefreshCmd": "cat(var_dic_list()) "
    }
   },
   "types_to_exclude": [
    "module",
    "function",
    "builtin_function_or_method",
    "instance",
    "_Feature"
   ],
   "window_display": false
  }
 },
 "nbformat": 4,
 "nbformat_minor": 2
}
