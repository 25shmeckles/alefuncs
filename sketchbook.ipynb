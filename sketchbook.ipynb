{
 "cells": [
  {
   "cell_type": "code",
   "execution_count": 3,
   "metadata": {},
   "outputs": [],
   "source": [
    "from alefuncs import *"
   ]
  },
  {
   "cell_type": "code",
   "execution_count": 81,
   "metadata": {},
   "outputs": [],
   "source": [
    "## Draft implementation\n",
    "from collections import Counter\n",
    "\n",
    "def xna_calc(sequence, t='dsDNA', p=0):\n",
    "    '''str => dict\n",
    "    Return basic \"biomath\" calculations based on the input sequence.\n",
    "    Arguments:\n",
    "        t (type) :'ssDNA' or 'dsDNA'\n",
    "        p (phosphates): 0,1,2\n",
    "        #in case if ssDNA having 3'P, you should pass 2 i.e., 2 phospates present in 1 dsDNA molecule \n",
    "    '''\n",
    "    r = {}\n",
    "    \n",
    "    #check inputs\n",
    "    c = Counter(sequence.upper())\n",
    "    for k in c.keys():\n",
    "        if k in 'ACGNT':\n",
    "            pass\n",
    "        else:\n",
    "            raise ValueError(f'Wrong sequence passed: \"sequence\" contains invalid characters, only \"ATCGN\" are allowed.')\n",
    "    if t not in ['ssDNA','dsDNA']:\n",
    "        raise ValueError(f'Wrong DNA type passed: \"t\" can be \"ssDNA\" or \"dsDNA\". \"{t}\" was passed instead.')\n",
    "    if not 0 <= p <= 2:\n",
    "        raise ValueError(f'Wrong number of 5\\'-phosphates passed: \"p\" must be an integer from 0 to 4. {p} was passed instead.')\n",
    "    \n",
    "    \n",
    "    ##Calculate:\n",
    "    \n",
    "    #length\n",
    "    r['len'] = len(sequence)\n",
    "    \n",
    "\n",
    "    #molecular weight\n",
    "    #still unsure about what is the best method to do this\n",
    "    \n",
    "    #s = 'ACTGACTGACTATATTCGCGATCGATGCGCTAGCTCGTACGC'\n",
    "    #bioinformatics.org : 25986.8  Da\n",
    "    #Thermo             : 25854.8  Da \n",
    "    #Promega            : 27720.0  Da \n",
    "    #MolBioTools        : 25828.77 Da\n",
    "    #This function      : 25828.86 Da #Similar to OligoCalc implementation\n",
    "    \n",
    "    #DNA Molecular Weight (typically for synthesized DNA oligonucleotides.\n",
    "    #The OligoCalc DNA MW calculations assume that there is not a 5' monophosphate)\n",
    "    #Anhydrous Molecular Weight = (An x 313.21) + (Tn x 304.2) + (Cn x 289.18) + (Gn x 329.21) - 61.96\n",
    "    #An, Tn, Cn, and Gn are the number of each respective nucleotide within the polynucleotide.\n",
    "    #The subtraction of 61.96 gm/mole from the oligonucleotide molecular weight takes into account the removal\n",
    "    #of HPO2 (63.98) and the addition of two hydrogens (2.02).\n",
    "    #Alternatively, you could think of this of the removal of a phosphate and the addition of a hydroxyl,\n",
    "    #since this formula calculates the molecular weight of 5' and 3' hydroxylated oligonucleotides.\n",
    "    #Please note: this calculation works well for synthesized oligonucleotides.\n",
    "    #If you would like an accurate MW for restriction enzyme cut DNA, please use:\n",
    "    #Molecular Weight = (An x 313.21) + (Tn x 304.2) + (Cn x 289.18) + (Gn x 329.21) - 61.96 + 79.0\n",
    "    #The addition of 79.0 gm/mole to the oligonucleotide molecular weight takes into account the 5' monophosphate\n",
    "    #left by most restriction enzymes.\n",
    "    #No phosphate is present at the 5' end of strands made by primer extension,\n",
    "    #so no adjustment to the OligoCalc DNA MW calculation is necessary for primer extensions.\n",
    "    #That means that for ssDNA, you need to add 79.0 to the value calculated by OligoCalc\n",
    "    #to get the weight with a 5' monophosphate.\n",
    "    #Finally, if you need to calculate the molecular weight of phosphorylated dsDNA,\n",
    "    #don't forget to adjust both strands. You can automatically perform either addition\n",
    "    #by selecting the Phosphorylated option from the 5' modification select list.\n",
    "    #Please note that the chemical modifications are only valid for DNA and may not be valid for RNA\n",
    "    #due to differences in the linkage chemistry, and also due to the lack of the 5' phosphates\n",
    "    #from synthetic RNA molecules. RNA Molecular Weight (for instance from an RNA transcript).\n",
    "    #The OligoCalc RNA MW calculations assume that there is a 5' triphosphate on the molecule)\n",
    "    #Molecular Weight = (An x 329.21) + (Un x 306.17) + (Cn x 305.18) + (Gn x 345.21) + 159.0\n",
    "    #An, Un, Cn, and Gn are the number of each respective nucleotide within the polynucleotide.\n",
    "    #Addition of 159.0 gm/mole to the molecular weight takes into account the 5' triphosphate.\n",
    "    \n",
    "    if t == 'ssDNA':\n",
    "        mw = ((c['A']*313.21)+(c['T']*304.2)+(c['C']*289.18)+(c['G']*329.21)+(c['N']*303.7)-61.96)+(p*79.0)\n",
    "        \n",
    "    elif t =='dsDNA':\n",
    "        mw_F = ((c['A']*313.21)+(c['T']*304.2)+(c['C']*289.18)+(c['G']*329.21)+(c['N']*303.7)-61.96)+(p*79.0)\n",
    "        d = Counter(complement(sequence.upper())) #complement sequence\n",
    "        mw_R = ((d['A']*313.21)+(d['T']*304.2)+(d['C']*289.18)+(d['G']*329.21)+(d['N']*303.7)-61.96)+(p*79.0)\n",
    "        mw = mw_F + mw_R\n",
    "    elif t == 'ssRNA':\n",
    "        pass\n",
    "    elif t == 'dsRNA':\n",
    "        pass\n",
    "    else:\n",
    "        return ValueError(f'Nucleic acid type not understood: \"{t}\"')\n",
    "        \n",
    "    r['MW in Daltons'] = mw\n",
    "    \n",
    "    #in ng\n",
    "    r['MW in ng'] = mw * 1.6605402e-15\n",
    "    \n",
    "    #molecules in 1ng\n",
    "    r['molecules per ng'] = 1/r['MW in ng']\n",
    "    \n",
    "    #ng for 10e10 molecules\n",
    "    r['ng per billion molecules'] = (10**9)/r['molecules per ng'] #(1 billions)\n",
    "    \n",
    "    #moles per ng\n",
    "    r['moles per ng'] = (r['MW in ng'] * mw)\n",
    "    return r"
   ]
  },
  {
   "cell_type": "code",
   "execution_count": 76,
   "metadata": {},
   "outputs": [],
   "source": [
    "S1_WT  = 'AGGCTGGGGCACAGCAGGCCAGTGTGCAGGGTGGCAAGTGGCTCCTGACCTGGAGTCTTCCAGTGTGATGATGGTGAGGATGGGCCTCCGGTTCATGCCGCCCATGCAGGAACTGTTACACATGTAGTTGTAGTGGATGGTGGTACAGTCAGAGCCAACCTAGGAGATAACACAGGCCCAAGATGAGGCCAGTGCGCCTT'\n",
    "S1_MUT = 'AGGCTGGGGCACAGCAGGCCAGTGTGCAGGGTGGCAAGTGGCTCCTGACCTGGAGTCTTCCAGTGTGAAGATGGTGAGGATGGGCCTCCGGTTCATGCCGCCCATGCAGGAACTGTTACACATGTAGTTGTCGTGGATGGTGGTACAGTCAGAGCCAACCTAGGAGATAACACAGGCCCAAGATGAGGCCAGTGCGCCTT'\n",
    "s = 'ACTGACTGACTATATTCGCGATCGATGCGCTAGCTCGTACGC'"
   ]
  },
  {
   "cell_type": "code",
   "execution_count": 80,
   "metadata": {},
   "outputs": [
    {
     "data": {
      "text/plain": [
       "{'MW in Daltons': 62194.229999999996,\n",
       " 'MW in ng': 1.0327601912304599e-10,\n",
       " 'len': 200,\n",
       " 'molecules per ng': 9682789949.606516,\n",
       " 'moles per ng': 6.42317248682312e-06,\n",
       " 'ng per billion molecules': 0.10327601912304599}"
      ]
     },
     "execution_count": 80,
     "metadata": {},
     "output_type": "execute_result"
    }
   ],
   "source": [
    "xna_calc(S1_MUT,'ssDNA',p=0)"
   ]
  },
  {
   "cell_type": "code",
   "execution_count": 59,
   "metadata": {},
   "outputs": [
    {
     "data": {
      "text/plain": [
       "{'MW in Daltons': 62256.0,\n",
       " 'MW in ng': 1.033785906912e-10,\n",
       " 'len': 200,\n",
       " 'molecules per ng': 9673182748.12895,\n",
       " 'moles per ng': 6.435937542071347e-06,\n",
       " 'ng per billion molecules': 0.1033785906912}"
      ]
     },
     "execution_count": 59,
     "metadata": {},
     "output_type": "execute_result"
    }
   ],
   "source": [
    "xna_calc(S1_MUT,'ssDNA',p=0)"
   ]
  }
 ],
 "metadata": {
  "kernelspec": {
   "display_name": "Python 3",
   "language": "python",
   "name": "python3"
  },
  "language_info": {
   "codemirror_mode": {
    "name": "ipython",
    "version": 3
   },
   "file_extension": ".py",
   "mimetype": "text/x-python",
   "name": "python",
   "nbconvert_exporter": "python",
   "pygments_lexer": "ipython3",
   "version": "3.6.3"
  }
 },
 "nbformat": 4,
 "nbformat_minor": 2
}
