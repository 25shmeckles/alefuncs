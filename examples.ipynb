{
 "cells": [
  {
   "cell_type": "code",
   "execution_count": 1,
   "metadata": {},
   "outputs": [],
   "source": [
    "from alefuncs import *"
   ]
  },
  {
   "cell_type": "code",
   "execution_count": null,
   "metadata": {},
   "outputs": [],
   "source": [
    "#what is the weight in nanograms of a human genome? #data based on https://www.ncbi.nlm.nih.gov/genome/51\n",
    "diploid_human_genome_mw = 6_469.66e6 * 607.4 #lenght (2n) * average weight of nucleotides\n",
    "                                             #M.W. of dsDNA = (# nucleotides x 607.4)\n",
    "                                             #https://www.thermofisher.com/us/en/home/references/ambion-tech-support/rna-tools-and-calculators/dna-and-rna-molecular-weights-and-conversions.html\n",
    "hg_2n_mass_ng = convert_mw(diploid_human_genome_mw, to=\"ng\")\n",
    "hg_2n_mass_ng"
   ]
  },
  {
   "cell_type": "code",
   "execution_count": null,
   "metadata": {},
   "outputs": [],
   "source": [
    "aploid_human_genome_mw = 3_234.83e6 * 607.4 #lenght (2n) * average weight of nucleotides\n",
    "                                             #M.W. of dsDNA = (# nucleotides x 607.4)\n",
    "                                             #https://www.thermofisher.com/us/en/home/references/ambion-tech-support/rna-tools-and-calculators/dna-and-rna-molecular-weights-and-conversions.html\n",
    "hg_1n_mass_ng = convert_mw(aploid_human_genome_mw, to=\"ng\")\n",
    "hg_1n_mass_ng"
   ]
  },
  {
   "cell_type": "code",
   "execution_count": null,
   "metadata": {},
   "outputs": [],
   "source": [
    "#how many genomes in 1ng of DNA?\n",
    "hg_2n_per_ng = 1/hg_2n_mass_ng\n",
    "hg_2n_per_ng"
   ]
  },
  {
   "cell_type": "code",
   "execution_count": null,
   "metadata": {},
   "outputs": [],
   "source": [
    "hg_1n_Mb = 3_234.83 #Mb (Mega-basepairs) per haploid genome\n",
    "hg_2n_Mb = 6_469.66 #Mb total (diploid).\n",
    "hg_2n_mass_pg = hg_2n_Mb / 978 # 1 pg = 978 Mbp https://en.wikipedia.org/wiki/C-value\n",
    "hg_2n_mass_pg"
   ]
  },
  {
   "cell_type": "code",
   "execution_count": null,
   "metadata": {},
   "outputs": [],
   "source": [
    "1/(hg_2n_mass_pg/10**3)"
   ]
  },
  {
   "cell_type": "code",
   "execution_count": null,
   "metadata": {},
   "outputs": [],
   "source": [
    "percent_of(5000,1)"
   ]
  },
  {
   "cell_type": "code",
   "execution_count": null,
   "metadata": {},
   "outputs": [],
   "source": [
    "l = [0]*10"
   ]
  },
  {
   "cell_type": "code",
   "execution_count": null,
   "metadata": {},
   "outputs": [],
   "source": [
    "%%timeit\n",
    "\n",
    "split_overlap(l,7,2)\n"
   ]
  },
  {
   "cell_type": "code",
   "execution_count": null,
   "metadata": {},
   "outputs": [],
   "source": [
    "from itertools import islice, tee, zip_longest    \n",
    "\n",
    "nwise_overlap = lambda xs,n=2,lap=1,fill=None: zip_longest(*(islice(xs,idx,None,n-lap) for idx,xs in enumerate(tee(xs,n))), fillvalue=fill)"
   ]
  },
  {
   "cell_type": "code",
   "execution_count": null,
   "metadata": {},
   "outputs": [],
   "source": [
    "l = [n for n in range(10)]\n",
    "print(list(nwise_overlap(l,7,2)))\n",
    "print(split_overlap(l,7,2))"
   ]
  },
  {
   "cell_type": "code",
   "execution_count": null,
   "metadata": {},
   "outputs": [],
   "source": [
    "split_overlap(l,7,2)"
   ]
  },
  {
   "cell_type": "code",
   "execution_count": 2,
   "metadata": {},
   "outputs": [],
   "source": [
    "from collections import deque\n",
    "\n",
    "def split_overlap_jdehesa(iterable, size, overlap=0):\n",
    "    size = int(size)\n",
    "    overlap = int(overlap)\n",
    "    if size < 1 or overlap < 0 or overlap >= size:\n",
    "        raise ValueError()\n",
    "    pops = size - overlap\n",
    "    q = deque(maxlen=size)\n",
    "    for elem in iterable:\n",
    "        q.append(elem)\n",
    "        if len(q) == size:\n",
    "            yield tuple(q)\n",
    "            for _ in range(pops):\n",
    "                q.popleft()\n",
    "    if len(q) > overlap:\n",
    "        yield tuple(q)"
   ]
  },
  {
   "cell_type": "code",
   "execution_count": 3,
   "metadata": {},
   "outputs": [],
   "source": [
    "import itertools\n",
    "\n",
    "def split_overlap_Aviad(iterable, size, overlap):\n",
    "    '''(iter,int,int) => [[...],[...],...]\n",
    "    Split an iterable into chunks of a specific size and overlap.\n",
    "    Works also on strings! \n",
    "\n",
    "    Examples:\n",
    "        >>> split_overlap(iterable=list(range(10)),size=3,overlap=2)\n",
    "        [[0, 1, 2], [1, 2, 3], [2, 3, 4], [3, 4, 5], [4, 5, 6], [5, 6, 7], [6, 7, 8], [7, 8, 9]]\n",
    "\n",
    "        >>> split_overlap(iterable=range(10),size=3,overlap=2)\n",
    "        [range(0, 3), range(1, 4), range(2, 5), range(3, 6), range(4, 7), range(5, 8), range(6, 9), range(7, 10)]\n",
    "    '''\n",
    "    if size < 1 or overlap < 0:\n",
    "        raise ValueError('\"size\" must be an integer with >= 1 while \"overlap\" must be >= 0')\n",
    "    result = []\n",
    "    for i in zip(*[iterable[i::size-overlap] for i in range(size)]):\n",
    "        result.append(i)\n",
    "    return result"
   ]
  },
  {
   "cell_type": "code",
   "execution_count": 4,
   "metadata": {},
   "outputs": [],
   "source": [
    "from itertools import zip_longest as iterzip\n",
    "\n",
    "def split_overlap_Moinuddin(seq, size, overlap):\n",
    "    for x in iterzip(*[seq[i::size-overlap] for i in range(size)]):\n",
    "        yield [i for i in x if i!=None] "
   ]
  },
  {
   "cell_type": "code",
   "execution_count": 54,
   "metadata": {},
   "outputs": [],
   "source": [
    "from itertools import islice, tee, zip_longest\n",
    "\n",
    "def nwise_overlap(xs, n=2, lap=1, fill=None):\n",
    "    return zip_longest(*(islice(xs, idx, None, n - lap)\n",
    "                         for idx, xs\n",
    "                         in enumerate(tee(xs, n))\n",
    "                         ))"
   ]
  },
  {
   "cell_type": "code",
   "execution_count": 70,
   "metadata": {},
   "outputs": [],
   "source": [
    "def itr_split_overlap(iterable, size, overlap):\n",
    "    itr = iter(iterable)\n",
    "    buf = deque(islice(itr, size), maxlen=size)\n",
    "\n",
    "    chunk = None\n",
    "    for chunk in iter(lambda: tuple(islice(itr, size - overlap)), ()):\n",
    "        yield tuple(buf)\n",
    "        buf.extend(chunk)\n",
    "\n",
    "    rest = tuple(buf)\n",
    "\n",
    "    if chunk:\n",
    "        rest = rest[size - overlap - len(chunk):]\n",
    "\n",
    "    yield rest\n",
    "    \n",
    "def gen_split_overlap(seq, size, overlap):        \n",
    "    if size < 1 or overlap < 0:\n",
    "        raise ValueError('size must be >= 1 and overlap >= 0')\n",
    "\n",
    "    for i in range(0, len(seq) - overlap, size - overlap):            \n",
    "        yield seq[i:i + size]"
   ]
  },
  {
   "cell_type": "code",
   "execution_count": 100,
   "metadata": {},
   "outputs": [],
   "source": [
    "def split_overlap_long(seq, size, overlap):\n",
    "    '''(seq,int,int) => generator\n",
    "    Split a sequence into chunks of a specific size and overlap.\n",
    "    Return a generator. It is very efficient for long sequences (len(seq()) > 100).\n",
    "    https://stackoverflow.com/questions/48381870/a-better-way-to-split-a-sequence-in-chunks-with-overlaps\n",
    "\n",
    "    Examples:\n",
    "        >>> split_overlap(seq=list(range(10)),size=3,overlap=2)\n",
    "        [[0, 1, 2], [1, 2, 3], [2, 3, 4], [3, 4, 5], [4, 5, 6], [5, 6, 7], [6, 7, 8], [7, 8, 9]]\n",
    "\n",
    "        >>> split_overlap(seq=range(10),size=3,overlap=2)\n",
    "        [range(0, 3), range(1, 4), range(2, 5), range(3, 6), range(4, 7), range(5, 8), range(6, 9), range(7, 10)]\n",
    "    '''       \n",
    "    if size < 1 or overlap < 0:\n",
    "        raise ValueError('size must be >= 1 and overlap >= 0')\n",
    "\n",
    "    for i in range(0, len(seq) - overlap, size - overlap):            \n",
    "        yield seq[i:i + size]"
   ]
  },
  {
   "cell_type": "code",
   "execution_count": 106,
   "metadata": {},
   "outputs": [
    {
     "data": {
      "text/plain": [
       "[(0, 1, 2),\n",
       " (1, 2, 3),\n",
       " (2, 3, 4),\n",
       " (3, 4, 5),\n",
       " (4, 5, 6),\n",
       " (5, 6, 7),\n",
       " (6, 7, 8),\n",
       " (7, 8, 9)]"
      ]
     },
     "execution_count": 106,
     "metadata": {},
     "output_type": "execute_result"
    }
   ],
   "source": [
    "list(itr_split_overlap(iterable=list(range(10)),size=3,overlap=2))"
   ]
  },
  {
   "cell_type": "code",
   "execution_count": 99,
   "metadata": {},
   "outputs": [
    {
     "name": "stdout",
     "output_type": "stream",
     "text": [
      "[range(0, 3), range(1, 4), range(2, 5), range(3, 6), range(4, 7), range(5, 8), range(6, 9), range(7, 10)]\n",
      "[(0, 1, 2), (1, 2, 3), (2, 3, 4), (3, 4, 5), (4, 5, 6), (5, 6, 7), (6, 7, 8), (7, 8, 9)]\n",
      "[(0, 1, 2), (1, 2, 3), (2, 3, 4), (3, 4, 5), (4, 5, 6), (5, 6, 7), (6, 7, 8), (7, 8, 9), (8, 9, None), (9, None, None)]\n",
      "[[0, 1, 2], [1, 2, 3], [2, 3, 4], [3, 4, 5], [4, 5, 6], [5, 6, 7], [6, 7, 8], [7, 8, 9], [8, 9], [9]]\n",
      "[range(0, 3), range(1, 4), range(2, 5), range(3, 6), range(4, 7), range(5, 8), range(6, 9), range(7, 10)]\n",
      "[(0, 1, 2), (1, 2, 3), (2, 3, 4), (3, 4, 5), (4, 5, 6), (5, 6, 7), (6, 7, 8), (7, 8, 9)]\n"
     ]
    }
   ],
   "source": [
    "l = range(10)\n",
    "s = 3\n",
    "o = 2\n",
    "print(split_overlap(l,s,o))\n",
    "print(list(split_overlap_jdehesa(l,s,o)))\n",
    "print(list(nwise_overlap(l,s,o)))\n",
    "print(list(split_overlap_Moinuddin(l,s,o)))\n",
    "print(list(gen_split_overlap(l,s,o)))\n",
    "print(list(itr_split_overlap(l,s,o)))"
   ]
  },
  {
   "cell_type": "code",
   "execution_count": 89,
   "metadata": {},
   "outputs": [],
   "source": [
    "l = [str(n) for n in range(1000)]"
   ]
  },
  {
   "cell_type": "code",
   "execution_count": 90,
   "metadata": {},
   "outputs": [
    {
     "name": "stdout",
     "output_type": "stream",
     "text": [
      "382 µs ± 4.66 µs per loop (mean ± std. dev. of 7 runs, 1000 loops each)\n"
     ]
    }
   ],
   "source": [
    "%%timeit\n",
    "split_overlap(l,7,2)"
   ]
  },
  {
   "cell_type": "code",
   "execution_count": 91,
   "metadata": {},
   "outputs": [
    {
     "name": "stdout",
     "output_type": "stream",
     "text": [
      "304 µs ± 5.14 µs per loop (mean ± std. dev. of 7 runs, 1000 loops each)\n"
     ]
    }
   ],
   "source": [
    "%%timeit\n",
    "list(split_overlap_jdehesa(l,7,2))"
   ]
  },
  {
   "cell_type": "code",
   "execution_count": 92,
   "metadata": {},
   "outputs": [
    {
     "name": "stdout",
     "output_type": "stream",
     "text": [
      "60 µs ± 967 ns per loop (mean ± std. dev. of 7 runs, 10000 loops each)\n"
     ]
    }
   ],
   "source": [
    "%%timeit\n",
    "list(nwise_overlap(l,7,2))"
   ]
  },
  {
   "cell_type": "code",
   "execution_count": 93,
   "metadata": {},
   "outputs": [
    {
     "name": "stdout",
     "output_type": "stream",
     "text": [
      "157 µs ± 388 ns per loop (mean ± std. dev. of 7 runs, 10000 loops each)\n"
     ]
    }
   ],
   "source": [
    "%%timeit\n",
    "list(split_overlap_Moinuddin(l,7,2))"
   ]
  },
  {
   "cell_type": "code",
   "execution_count": 94,
   "metadata": {},
   "outputs": [
    {
     "name": "stdout",
     "output_type": "stream",
     "text": [
      "44.2 µs ± 388 ns per loop (mean ± std. dev. of 7 runs, 10000 loops each)\n"
     ]
    }
   ],
   "source": [
    "%%timeit\n",
    "list(gen_split_overlap(l,7,2))"
   ]
  },
  {
   "cell_type": "code",
   "execution_count": 95,
   "metadata": {},
   "outputs": [
    {
     "name": "stdout",
     "output_type": "stream",
     "text": [
      "184 µs ± 1.74 µs per loop (mean ± std. dev. of 7 runs, 10000 loops each)\n"
     ]
    }
   ],
   "source": [
    "%%timeit\n",
    "list(itr_split_overlap(l,7,2))"
   ]
  },
  {
   "cell_type": "code",
   "execution_count": null,
   "metadata": {},
   "outputs": [],
   "source": []
  }
 ],
 "metadata": {
  "kernelspec": {
   "display_name": "Python 3",
   "language": "python",
   "name": "python3"
  },
  "language_info": {
   "codemirror_mode": {
    "name": "ipython",
    "version": 3
   },
   "file_extension": ".py",
   "mimetype": "text/x-python",
   "name": "python",
   "nbconvert_exporter": "python",
   "pygments_lexer": "ipython3",
   "version": "3.6.3"
  }
 },
 "nbformat": 4,
 "nbformat_minor": 2
}
