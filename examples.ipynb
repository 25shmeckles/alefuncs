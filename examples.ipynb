{
 "cells": [
  {
   "cell_type": "code",
   "execution_count": 1,
   "metadata": {},
   "outputs": [],
   "source": [
    "from alefuncs import *"
   ]
  },
  {
   "cell_type": "code",
   "execution_count": 15,
   "metadata": {},
   "outputs": [
    {
     "data": {
      "text/plain": [
       "0.006525377471975656"
      ]
     },
     "execution_count": 15,
     "metadata": {},
     "output_type": "execute_result"
    }
   ],
   "source": [
    "#what is the weight in nanograms of a human genome? #data based on https://www.ncbi.nlm.nih.gov/genome/51\n",
    "diploid_human_genome_mw = 6_469.66e6 * 607.4 #lenght (2n) * average weight of nucleotides\n",
    "                                             #M.W. of dsDNA = (# nucleotides x 607.4)\n",
    "                                             #https://www.thermofisher.com/us/en/home/references/ambion-tech-support/rna-tools-and-calculators/dna-and-rna-molecular-weights-and-conversions.html\n",
    "hg_2n_mass_ng = convert_mw(diploid_human_genome_mw, to=\"ng\")\n",
    "hg_2n_mass_ng"
   ]
  },
  {
   "cell_type": "code",
   "execution_count": 20,
   "metadata": {},
   "outputs": [
    {
     "data": {
      "text/plain": [
       "0.003262688735987828"
      ]
     },
     "execution_count": 20,
     "metadata": {},
     "output_type": "execute_result"
    }
   ],
   "source": [
    "aploid_human_genome_mw = 3_234.83e6 * 607.4 #lenght (2n) * average weight of nucleotides\n",
    "                                             #M.W. of dsDNA = (# nucleotides x 607.4)\n",
    "                                             #https://www.thermofisher.com/us/en/home/references/ambion-tech-support/rna-tools-and-calculators/dna-and-rna-molecular-weights-and-conversions.html\n",
    "hg_1n_mass_ng = convert_mw(aploid_human_genome_mw, to=\"ng\")\n",
    "hg_1n_mass_ng"
   ]
  },
  {
   "cell_type": "code",
   "execution_count": 22,
   "metadata": {},
   "outputs": [
    {
     "data": {
      "text/plain": [
       "153.24783957628048"
      ]
     },
     "execution_count": 22,
     "metadata": {},
     "output_type": "execute_result"
    }
   ],
   "source": [
    "#how many genomes in 1ng of DNA?\n",
    "hg_2n_per_ng = 1/hg_2n_mass_ng\n",
    "hg_2n_per_ng"
   ]
  },
  {
   "cell_type": "code",
   "execution_count": 17,
   "metadata": {},
   "outputs": [
    {
     "data": {
      "text/plain": [
       "6.61519427402863"
      ]
     },
     "execution_count": 17,
     "metadata": {},
     "output_type": "execute_result"
    }
   ],
   "source": [
    "hg_1n_Mb = 3_234.83 #Mb (Mega-basepairs) per haploid genome\n",
    "hg_2n_Mb = 6_469.66 #Mb total (diploid).\n",
    "hg_2n_mass_pg = hg_2n_Mb / 978 # 1 pg = 978 Mbp https://en.wikipedia.org/wiki/C-value\n",
    "hg_2n_mass_pg"
   ]
  },
  {
   "cell_type": "code",
   "execution_count": 24,
   "metadata": {},
   "outputs": [
    {
     "data": {
      "text/plain": [
       "151.1671401588337"
      ]
     },
     "execution_count": 24,
     "metadata": {},
     "output_type": "execute_result"
    }
   ],
   "source": [
    "1/(hg_2n_mass_pg/10**3)"
   ]
  },
  {
   "cell_type": "code",
   "execution_count": 32,
   "metadata": {},
   "outputs": [
    {
     "data": {
      "text/plain": [
       "0.02"
      ]
     },
     "execution_count": 32,
     "metadata": {},
     "output_type": "execute_result"
    }
   ],
   "source": [
    "percent_of(5000,1)"
   ]
  },
  {
   "cell_type": "code",
   "execution_count": null,
   "metadata": {},
   "outputs": [],
   "source": []
  }
 ],
 "metadata": {
  "kernelspec": {
   "display_name": "Python 3",
   "language": "python",
   "name": "python3"
  },
  "language_info": {
   "codemirror_mode": {
    "name": "ipython",
    "version": 3
   },
   "file_extension": ".py",
   "mimetype": "text/x-python",
   "name": "python",
   "nbconvert_exporter": "python",
   "pygments_lexer": "ipython3",
   "version": "3.6.3"
  }
 },
 "nbformat": 4,
 "nbformat_minor": 2
}
