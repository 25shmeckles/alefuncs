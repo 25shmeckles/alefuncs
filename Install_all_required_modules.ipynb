{
 "cells": [
  {
   "cell_type": "code",
   "execution_count": 1,
   "metadata": {},
   "outputs": [
    {
     "name": "stdout",
     "output_type": "stream",
     "text": [
      "All modules ready, you are good to go!\n"
     ]
    }
   ],
   "source": [
    "#Install all required modules for alefuncs\n",
    "import sys\n",
    "from collections import Counter\n",
    "from IPython.display import clear_output\n",
    "\n",
    "missing_modules = Counter()\n",
    "while True:\n",
    "    try:\n",
    "        from alefuncs import *\n",
    "        break\n",
    "    except ImportError as e:\n",
    "        clear_output()\n",
    "        missing_module = str(e).split()[-1].strip(\"'\").lower()\n",
    "        print(f'missing: {missing_module}')\n",
    "        #Check aliases\n",
    "        if missing_module == 'bio':\n",
    "            missing_module = 'biopython'\n",
    "        if missing_module == 'pil':\n",
    "            missing_module = 'pillow'\n",
    "        #Avoid looping over the same module\n",
    "        missing_modules.update({missing_module})\n",
    "        if missing_modules[missing_module] > 1:\n",
    "            print(f\"can't install {missing_module}, please try manually.\")\n",
    "            break\n",
    "        #Install missing module\n",
    "        !$sys.executable -m pip install $missing_module\n",
    "        \n",
    "print('All modules ready, you are good to go!') "
   ]
  },
  {
   "cell_type": "code",
   "execution_count": null,
   "metadata": {},
   "outputs": [],
   "source": []
  }
 ],
 "metadata": {
  "kernelspec": {
   "display_name": "Python 3",
   "language": "python",
   "name": "python3"
  },
  "language_info": {
   "codemirror_mode": {
    "name": "ipython",
    "version": 3
   },
   "file_extension": ".py",
   "mimetype": "text/x-python",
   "name": "python",
   "nbconvert_exporter": "python",
   "pygments_lexer": "ipython3",
   "version": "3.7.4"
  }
 },
 "nbformat": 4,
 "nbformat_minor": 2
}
