{
 "cells": [
  {
   "cell_type": "code",
   "execution_count": 1,
   "metadata": {
    "collapsed": true
   },
   "outputs": [],
   "source": []
  },
  {
   "cell_type": "code",
   "execution_count": 27,
   "metadata": {},
   "outputs": [
    {
     "ename": "IndentationError",
     "evalue": "expected an indented block (<ipython-input-27-39f90060e826>, line 14)",
     "output_type": "error",
     "traceback": [
      "\u001b[0;36m  File \u001b[0;32m\"<ipython-input-27-39f90060e826>\"\u001b[0;36m, line \u001b[0;32m14\u001b[0m\n\u001b[0;31m    start = time()\u001b[0m\n\u001b[0m                  ^\u001b[0m\n\u001b[0;31mIndentationError\u001b[0m\u001b[0;31m:\u001b[0m expected an indented block\n"
     ]
    }
   ],
   "source": [
    "from multiprocessing import Pool, cpu_count\n",
    "from time import time, sleep\n",
    "\n",
    "\n",
    "def run(*args):\n",
    "    try:\n",
    "        print('h')\n",
    "        sleep(100)\n",
    "    except KeyboardInterrupt:\n",
    "    #    return #return in case of KeyboardInterrupt\n",
    "    #    pass\n",
    "    \n",
    "    \n",
    "start = time()\n",
    "with Pool(cpu_count()) as p:\n",
    "    try:\n",
    "        p.map(run, range(10))\n",
    "    except KeyboardInterrupt:\n",
    "        print('Interrupted!')\n",
    "        #p.terminate() #terminate the Pool in case of KeyboardInterrupt\n",
    "\n",
    "print(f'Done in {time()-start} with {cpu_count()} CPUs')"
   ]
  },
  {
   "cell_type": "code",
   "execution_count": 36,
   "metadata": {},
   "outputs": [],
   "source": [
    "p.terminate()"
   ]
  },
  {
   "cell_type": "code",
   "execution_count": 37,
   "metadata": {},
   "outputs": [
    {
     "data": {
      "text/plain": [
       "<multiprocessing.pool.Pool at 0x1024ae710>"
      ]
     },
     "execution_count": 37,
     "metadata": {},
     "output_type": "execute_result"
    }
   ],
   "source": [
    "p.close"
   ]
  },
  {
   "cell_type": "code",
   "execution_count": 1,
   "metadata": {},
   "outputs": [],
   "source": [
    "def with_previous(iterable):\n",
    "    iterator = iter(iterable)\n",
    "    previous = next(iterator)\n",
    "    for item in iterator:\n",
    "        yield previous, item\n",
    "        previous = item"
   ]
  },
  {
   "cell_type": "code",
   "execution_count": 25,
   "metadata": {},
   "outputs": [],
   "source": [
    "def primes(n):\n",
    "    '''\n",
    "    This is a fast prime number list generator using sieve algorithm.\n",
    "    This function return a list of prime numbers which <= argument.\n",
    "    https://code.activestate.com/recipes/366178-a-fast-prime-number-list-generator/\n",
    "    '''\n",
    "    if n==2: return [2]\n",
    "    elif n<2: return []\n",
    "    s = range(3,n+1,2)\n",
    "    mroot = n ** 0.5\n",
    "    half=(n+1)/2-1\n",
    "    i=0\n",
    "    m=3\n",
    "    while m <= mroot:\n",
    "        if s[i]:\n",
    "            j=(m*m-3)/2\n",
    "            s[j]=0\n",
    "            while j<half:\n",
    "                s[j]=0\n",
    "                j+=m\n",
    "        i=i+1\n",
    "        m=2*i+3\n",
    "    return [2]+[x for x in s if x]"
   ]
  },
  {
   "cell_type": "code",
   "execution_count": 28,
   "metadata": {},
   "outputs": [],
   "source": [
    "def primes_2(n):\n",
    "    s=range(0,n+1)\n",
    "    s[1]=0\n",
    "    bottom=2\n",
    "    top=n//bottom\n",
    "    while (bottom*bottom<=n):\n",
    "            while (bottom<=top):\n",
    "                    if s[top]:\n",
    "                            s[top*bottom]=0\n",
    "                    top-=1\n",
    "            bottom+=1\n",
    "            top=n//bottom\n",
    "    return [x for x in s if x]"
   ]
  },
  {
   "cell_type": "code",
   "execution_count": 44,
   "metadata": {},
   "outputs": [
    {
     "name": "stdout",
     "output_type": "stream",
     "text": [
      "849 µs ± 12.3 µs per loop (mean ± std. dev. of 7 runs, 1000 loops each)\n"
     ]
    }
   ],
   "source": []
  },
  {
   "cell_type": "code",
   "execution_count": 57,
   "metadata": {},
   "outputs": [
    {
     "name": "stdout",
     "output_type": "stream",
     "text": [
      "[2, 3, 5, 7, 11, 13, 17, 19, 23, 29, 31, 37, 41, 43, 47]\n",
      "209 µs ± 3.49 µs per loop (mean ± std. dev. of 7 runs, 1000 loops each)\n"
     ]
    }
   ],
   "source": [
    "def f(l):\n",
    "    return sorted(set(l).difference(a for i in l for a in l if a!=i and a%i == 0))\n",
    "\n",
    "l = range(2, 50)\n",
    "print(f(l))\n",
    "%timeit f(l)"
   ]
  },
  {
   "cell_type": "code",
   "execution_count": 64,
   "metadata": {
    "scrolled": true
   },
   "outputs": [
    {
     "name": "stdout",
     "output_type": "stream",
     "text": [
      "[-0.75, -0.1388888888888889, -0.048611111111111105, -0.0225, -0.012222222222222225, -0.007369614512471655, -0.004783163265306121, -0.0032793209876543217, -0.002345679012345678, -0.0017355371900826446, -0.0013200183654729115, -0.0010272846811308347, -0.0008151189469870791, -0.0006575963718820858, -0.0005381944444444444, -0.0004460423875432525, -0.00037378785937032793, -0.0003163366505933448, -0.00027008310249307475, -0.00023242630385487528, -0.00020145799366578588, -0.00017575653423737288, -0.000154248057130855, -0.00013611111111111094, -0.00012071005917159774, -0.00010754782834554921, -9.623190840122057e-05, -8.644956198888593e-05, -7.794953098163551e-05, -7.052838478436804e-05, -6.402022632674307e-05, -5.828885445362719e-05, -5.322174243218593e-05, -4.872537250194195e-05, -4.472159234064003e-05, -4.11447483519555e-05, -3.7939414296380694e-05, -3.505857969953428e-05, -3.2462195923734405e-05, -3.0116002379535975e-05, -2.7990573584182844e-05, -2.6060541397016686e-05, -2.4303957019429783e-05, -2.2701765126007553e-05, -2.1237368433335666e-05, -1.989626557792021e-05, -1.866574870479354e-05, -1.7534649914387483e-05, -1.649312786339025e-05, -1.553248750480585e-05, -1.4645027288093585e-05, -1.3823909201404587e-05, -1.3063047884982716e-05, -1.2357015724019042e-05, -1.1700961376286101e-05, -1.1090539632288728e-05, -1.0521850864932754e-05, -9.991388618561532e-06, -9.495994126847347e-06, -9.032816745797151e-06, -8.599279450294858e-06, -8.193048676671886e-06, -7.812007905013882e-06, -7.454234467455624e-06, -7.117979145951174e-06, -6.801648187662471e-06, -6.503787420384012e-06, -6.223068196106068e-06, -5.958274929379419e-06, -5.708294029772203e-06, -5.472104055387805e-06, -5.2487669379518815e-06, -5.037420150036994e-06, -4.837269702134562e-06, -4.647583871960611e-06, -4.4676875809731924e-06, -4.296957343910378e-06, -4.134816726487206e-06, -3.980732254446395e-06, -3.834209724127419e-06, -3.694790870756575e-06, -3.562050355907138e-06, -3.435593040138573e-06, -3.3150515108003905e-06, -3.200083838453781e-06, -3.0903715383998173e-06, -2.9856177164576283e-06, -2.8855453804668316e-06, -2.7898959010350566e-06, -2.6984276068525216e-06, -2.610914501481395e-06, -2.5271450899292183e-06, -2.4469213045508344e-06, -2.3700575209198367e-06, -2.2963796552785486e-06, -2.225724336037588e-06, -2.157938142559283e-06, -2.092876905139478e-06]\n",
      "54.7 µs ± 13.9 µs per loop (mean ± std. dev. of 7 runs, 10000 loops each)\n"
     ]
    }
   ],
   "source": [
    "%timeit\n",
    "\n",
    "##Gen primes?\n",
    "def f2(readings):\n",
    "    readings = [n**-2 for n in range(1,100)]\n",
    "    differences = []\n",
    "    for previous, current in with_previous(readings):\n",
    "        differences.append(current - previous)\n",
    "    return differences\n",
    "\n",
    "l = range(2, 50)\n",
    "print(f2(l))\n",
    "%timeit f2(l)"
   ]
  },
  {
   "cell_type": "code",
   "execution_count": 3,
   "metadata": {},
   "outputs": [
    {
     "data": {
      "text/plain": [
       "[(0, 1), (1, 2), (2, 3), (3, 4), (4, 5), (5, 6), (6, 7), (7, 8), (8, 9)]"
      ]
     },
     "execution_count": 3,
     "metadata": {},
     "output_type": "execute_result"
    }
   ],
   "source": [
    "list(with_previous(range(10)))"
   ]
  },
  {
   "cell_type": "code",
   "execution_count": 19,
   "metadata": {
    "scrolled": true
   },
   "outputs": [
    {
     "data": {
      "text/plain": [
       "[0.010000000000000002,\n",
       " 0.030000000000000006,\n",
       " 0.04999999999999999,\n",
       " 0.07000000000000003,\n",
       " 0.08999999999999997,\n",
       " 0.10999999999999999,\n",
       " 0.12999999999999995,\n",
       " 0.1500000000000002,\n",
       " 0.16999999999999993,\n",
       " 0.18999999999999995,\n",
       " 0.2100000000000002,\n",
       " 0.22999999999999976,\n",
       " 0.2500000000000002,\n",
       " 0.2699999999999996,\n",
       " 0.29000000000000026,\n",
       " 0.3100000000000005,\n",
       " 0.3299999999999992,\n",
       " 0.35000000000000053,\n",
       " 0.36999999999999966,\n",
       " 0.3900000000000001,\n",
       " 0.41000000000000014,\n",
       " 0.4300000000000006,\n",
       " 0.4499999999999984,\n",
       " 0.47000000000000064,\n",
       " 0.4900000000000002,\n",
       " 0.5100000000000007,\n",
       " 0.5300000000000002,\n",
       " 0.549999999999998,\n",
       " 0.5700000000000012,\n",
       " 0.5899999999999999,\n",
       " 0.6100000000000012,\n",
       " 0.6300000000000008,\n",
       " 0.6499999999999968,\n",
       " 0.6699999999999999,\n",
       " 0.6900000000000013,\n",
       " 0.7100000000000009,\n",
       " 0.7300000000000004,\n",
       " 0.7499999999999982,\n",
       " 0.7699999999999996,\n",
       " 0.7900000000000009,\n",
       " 0.8099999999999987,\n",
       " 0.8300000000000018,\n",
       " 0.8499999999999979,\n",
       " 0.8700000000000045,\n",
       " 0.889999999999997,\n",
       " 0.9099999999999966,\n",
       " 0.9300000000000068,\n",
       " 0.9499999999999957,\n",
       " 0.970000000000006,\n",
       " 0.9899999999999949,\n",
       " 1.009999999999998,\n",
       " 1.0300000000000047,\n",
       " 1.0499999999999972,\n",
       " 1.0700000000000038,\n",
       " 1.0899999999999963,\n",
       " 1.1099999999999959,\n",
       " 1.130000000000006,\n",
       " 1.1499999999999986,\n",
       " 1.1700000000000017,\n",
       " 1.1899999999999977,\n",
       " 1.2099999999999937,\n",
       " 1.230000000000011,\n",
       " 1.249999999999993,\n",
       " 1.2700000000000102,\n",
       " 1.289999999999992,\n",
       " 1.3099999999999952,\n",
       " 1.3300000000000054,\n",
       " 1.3499999999999943,\n",
       " 1.3700000000000117,\n",
       " 1.3899999999999935,\n",
       " 1.4099999999999966,\n",
       " 1.4300000000000068,\n",
       " 1.4499999999999957,\n",
       " 1.470000000000006,\n",
       " 1.4899999999999949,\n",
       " 1.509999999999998,\n",
       " 1.5300000000000082,\n",
       " 1.54999999999999,\n",
       " 1.5700000000000074,\n",
       " 1.5899999999999963,\n",
       " 1.6099999999999994,\n",
       " 1.6299999999999955,\n",
       " 1.65000000000002,\n",
       " 1.6699999999999875,\n",
       " 1.6899999999999977,\n",
       " 1.7099999999999937,\n",
       " 1.7299999999999898,\n",
       " 1.7500000000000284,\n",
       " 1.769999999999996,\n",
       " 1.789999999999992,\n",
       " 1.809999999999988,\n",
       " 1.8299999999999983,\n",
       " 1.8500000000000227,\n",
       " 1.8700000000000045,\n",
       " 1.8899999999999864,\n",
       " 1.9099999999999966,\n",
       " 1.9299999999999926,\n",
       " 1.9500000000000313,\n",
       " 1.9699999999999847]"
      ]
     },
     "execution_count": 19,
     "metadata": {},
     "output_type": "execute_result"
    }
   ],
   "source": [
    "readings = [(n/10)**2 for n in range(100)]\n",
    "differences = []\n",
    "for previous, current in with_previous(readings):\n",
    "    differences.append(current - previous)\n",
    "differences"
   ]
  },
  {
   "cell_type": "code",
   "execution_count": 18,
   "metadata": {},
   "outputs": [
    {
     "data": {
      "text/plain": [
       "0.0004000000000000002"
      ]
     },
     "execution_count": 18,
     "metadata": {},
     "output_type": "execute_result"
    }
   ],
   "source": [
    "0.010000000000000002*0.04000000000000001"
   ]
  },
  {
   "cell_type": "code",
   "execution_count": 12,
   "metadata": {},
   "outputs": [
    {
     "ename": "TypeError",
     "evalue": "'float' object cannot be interpreted as an integer",
     "output_type": "error",
     "traceback": [
      "\u001b[0;31m---------------------------------------------------------------------------\u001b[0m",
      "\u001b[0;31mTypeError\u001b[0m                                 Traceback (most recent call last)",
      "\u001b[0;32m<ipython-input-12-064c0b29e31f>\u001b[0m in \u001b[0;36m<module>\u001b[0;34m()\u001b[0m\n\u001b[0;32m----> 1\u001b[0;31m \u001b[0mrange\u001b[0m\u001b[0;34m(\u001b[0m\u001b[0;36m0\u001b[0m\u001b[0;34m,\u001b[0m \u001b[0;36m100\u001b[0m\u001b[0;34m,\u001b[0m \u001b[0;36m0.1\u001b[0m\u001b[0;34m)\u001b[0m\u001b[0;34m\u001b[0m\u001b[0m\n\u001b[0m",
      "\u001b[0;31mTypeError\u001b[0m: 'float' object cannot be interpreted as an integer"
     ]
    }
   ],
   "source": [
    "range(0, 100, 0.1)"
   ]
  },
  {
   "cell_type": "code",
   "execution_count": null,
   "metadata": {},
   "outputs": [],
   "source": []
  }
 ],
 "metadata": {
  "kernelspec": {
   "display_name": "Python 3",
   "language": "python",
   "name": "python3"
  },
  "language_info": {
   "codemirror_mode": {
    "name": "ipython",
    "version": 3
   },
   "file_extension": ".py",
   "mimetype": "text/x-python",
   "name": "python",
   "nbconvert_exporter": "python",
   "pygments_lexer": "ipython3",
   "version": "3.6.4"
  }
 },
 "nbformat": 4,
 "nbformat_minor": 2
}
